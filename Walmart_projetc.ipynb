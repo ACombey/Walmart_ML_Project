{
  "cells": [
    {
      "cell_type": "markdown",
      "metadata": {
        "id": "view-in-github",
        "colab_type": "text"
      },
      "source": [
        "<a href=\"https://colab.research.google.com/github/ACombey/Walmart_ML_Project/blob/main/Walmart_projetc.ipynb\" target=\"_parent\"><img src=\"https://colab.research.google.com/assets/colab-badge.svg\" alt=\"Open In Colab\"/></a>"
      ]
    },
    {
      "cell_type": "markdown",
      "source": [
        "# Importations du fichier"
      ],
      "metadata": {
        "id": "l-HNjCJW86Or"
      },
      "id": "l-HNjCJW86Or"
    },
    {
      "cell_type": "markdown",
      "source": [
        "A transferer sur github"
      ],
      "metadata": {
        "id": "qqGNKQzZ9CDb"
      },
      "id": "qqGNKQzZ9CDb"
    },
    {
      "cell_type": "code",
      "execution_count": null,
      "id": "30959799",
      "metadata": {
        "id": "30959799"
      },
      "outputs": [],
      "source": [
        "import pandas as pd"
      ]
    },
    {
      "cell_type": "code",
      "source": [
        "from google.colab import drive\n",
        "drive.mount('/content/drive')"
      ],
      "metadata": {
        "colab": {
          "base_uri": "https://localhost:8080/"
        },
        "id": "gLKnSfryCo0H",
        "outputId": "017dc3c8-58e8-46ad-841d-3d08b72357a7"
      },
      "id": "gLKnSfryCo0H",
      "execution_count": null,
      "outputs": [
        {
          "output_type": "stream",
          "name": "stdout",
          "text": [
            "Drive already mounted at /content/drive; to attempt to forcibly remount, call drive.mount(\"/content/drive\", force_remount=True).\n"
          ]
        }
      ]
    },
    {
      "cell_type": "code",
      "source": [
        "pwd"
      ],
      "metadata": {
        "colab": {
          "base_uri": "https://localhost:8080/",
          "height": 35
        },
        "id": "LCxNQskVDJsu",
        "outputId": "74e30e67-a7fa-4a69-ccf6-40c6c875b5ec"
      },
      "id": "LCxNQskVDJsu",
      "execution_count": null,
      "outputs": [
        {
          "output_type": "execute_result",
          "data": {
            "text/plain": [
              "'/content/Walmart_ML_Project'"
            ],
            "application/vnd.google.colaboratory.intrinsic+json": {
              "type": "string"
            }
          },
          "metadata": {},
          "execution_count": 55
        }
      ]
    },
    {
      "cell_type": "code",
      "source": [
        "#!rm -rf Walmart_ML_Project\n",
        "!git clone https://github.com/ACombey/Walmart_ML_Project.git\n",
        "%cd Walmart_ML_Project\n"
      ],
      "metadata": {
        "colab": {
          "base_uri": "https://localhost:8080/"
        },
        "id": "biCVAPDqIOTO",
        "outputId": "6eb44cff-f897-40f5-d843-8007f331e605"
      },
      "id": "biCVAPDqIOTO",
      "execution_count": null,
      "outputs": [
        {
          "output_type": "stream",
          "name": "stdout",
          "text": [
            "Cloning into 'Walmart_ML_Project'...\n",
            "remote: Enumerating objects: 3, done.\u001b[K\n",
            "remote: Counting objects: 100% (3/3), done.\u001b[K\n",
            "remote: Compressing objects: 100% (3/3), done.\u001b[K\n",
            "Receiving objects: 100% (3/3), 4.53 KiB | 4.53 MiB/s, done.\n",
            "remote: Total 3 (delta 0), reused 0 (delta 0), pack-reused 0 (from 0)\u001b[K\n",
            "/content/Walmart_ML_Project/Walmart_ML_Project\n"
          ]
        }
      ]
    },
    {
      "cell_type": "markdown",
      "source": [
        "# Exploration du dataset"
      ],
      "metadata": {
        "id": "PYQCAoAV9Hl_"
      },
      "id": "PYQCAoAV9Hl_"
    },
    {
      "cell_type": "code",
      "source": [
        "import pandas as pd\n",
        "df = pd.read_csv(\"Walmart_Store_sales.csv\")\n",
        "df.head()"
      ],
      "metadata": {
        "colab": {
          "base_uri": "https://localhost:8080/",
          "height": 204
        },
        "id": "GT2sx9lnHrYR",
        "outputId": "c0dee888-8402-426b-eb5e-9407d6f9d7e1"
      },
      "id": "GT2sx9lnHrYR",
      "execution_count": null,
      "outputs": [
        {
          "output_type": "execute_result",
          "data": {
            "text/plain": [
              "   Store        Date  Weekly_Sales  Holiday_Flag  Temperature  Fuel_Price  \\\n",
              "0    6.0  18-02-2011    1572117.54           NaN        59.61       3.045   \n",
              "1   13.0  25-03-2011    1807545.43           0.0        42.38       3.435   \n",
              "2   17.0  27-07-2012           NaN           0.0          NaN         NaN   \n",
              "3   11.0         NaN    1244390.03           0.0        84.57         NaN   \n",
              "4    6.0  28-05-2010    1644470.66           0.0        78.89       2.759   \n",
              "\n",
              "          CPI  Unemployment  \n",
              "0  214.777523         6.858  \n",
              "1  128.616064         7.470  \n",
              "2  130.719581         5.936  \n",
              "3  214.556497         7.346  \n",
              "4  212.412888         7.092  "
            ],
            "text/html": [
              "\n",
              "  <div id=\"df-45846c4a-7c50-40b6-b2c5-913851927338\" class=\"colab-df-container\">\n",
              "    <div>\n",
              "<style scoped>\n",
              "    .dataframe tbody tr th:only-of-type {\n",
              "        vertical-align: middle;\n",
              "    }\n",
              "\n",
              "    .dataframe tbody tr th {\n",
              "        vertical-align: top;\n",
              "    }\n",
              "\n",
              "    .dataframe thead th {\n",
              "        text-align: right;\n",
              "    }\n",
              "</style>\n",
              "<table border=\"1\" class=\"dataframe\">\n",
              "  <thead>\n",
              "    <tr style=\"text-align: right;\">\n",
              "      <th></th>\n",
              "      <th>Store</th>\n",
              "      <th>Date</th>\n",
              "      <th>Weekly_Sales</th>\n",
              "      <th>Holiday_Flag</th>\n",
              "      <th>Temperature</th>\n",
              "      <th>Fuel_Price</th>\n",
              "      <th>CPI</th>\n",
              "      <th>Unemployment</th>\n",
              "    </tr>\n",
              "  </thead>\n",
              "  <tbody>\n",
              "    <tr>\n",
              "      <th>0</th>\n",
              "      <td>6.0</td>\n",
              "      <td>18-02-2011</td>\n",
              "      <td>1572117.54</td>\n",
              "      <td>NaN</td>\n",
              "      <td>59.61</td>\n",
              "      <td>3.045</td>\n",
              "      <td>214.777523</td>\n",
              "      <td>6.858</td>\n",
              "    </tr>\n",
              "    <tr>\n",
              "      <th>1</th>\n",
              "      <td>13.0</td>\n",
              "      <td>25-03-2011</td>\n",
              "      <td>1807545.43</td>\n",
              "      <td>0.0</td>\n",
              "      <td>42.38</td>\n",
              "      <td>3.435</td>\n",
              "      <td>128.616064</td>\n",
              "      <td>7.470</td>\n",
              "    </tr>\n",
              "    <tr>\n",
              "      <th>2</th>\n",
              "      <td>17.0</td>\n",
              "      <td>27-07-2012</td>\n",
              "      <td>NaN</td>\n",
              "      <td>0.0</td>\n",
              "      <td>NaN</td>\n",
              "      <td>NaN</td>\n",
              "      <td>130.719581</td>\n",
              "      <td>5.936</td>\n",
              "    </tr>\n",
              "    <tr>\n",
              "      <th>3</th>\n",
              "      <td>11.0</td>\n",
              "      <td>NaN</td>\n",
              "      <td>1244390.03</td>\n",
              "      <td>0.0</td>\n",
              "      <td>84.57</td>\n",
              "      <td>NaN</td>\n",
              "      <td>214.556497</td>\n",
              "      <td>7.346</td>\n",
              "    </tr>\n",
              "    <tr>\n",
              "      <th>4</th>\n",
              "      <td>6.0</td>\n",
              "      <td>28-05-2010</td>\n",
              "      <td>1644470.66</td>\n",
              "      <td>0.0</td>\n",
              "      <td>78.89</td>\n",
              "      <td>2.759</td>\n",
              "      <td>212.412888</td>\n",
              "      <td>7.092</td>\n",
              "    </tr>\n",
              "  </tbody>\n",
              "</table>\n",
              "</div>\n",
              "    <div class=\"colab-df-buttons\">\n",
              "\n",
              "  <div class=\"colab-df-container\">\n",
              "    <button class=\"colab-df-convert\" onclick=\"convertToInteractive('df-45846c4a-7c50-40b6-b2c5-913851927338')\"\n",
              "            title=\"Convert this dataframe to an interactive table.\"\n",
              "            style=\"display:none;\">\n",
              "\n",
              "  <svg xmlns=\"http://www.w3.org/2000/svg\" height=\"24px\" viewBox=\"0 -960 960 960\">\n",
              "    <path d=\"M120-120v-720h720v720H120Zm60-500h600v-160H180v160Zm220 220h160v-160H400v160Zm0 220h160v-160H400v160ZM180-400h160v-160H180v160Zm440 0h160v-160H620v160ZM180-180h160v-160H180v160Zm440 0h160v-160H620v160Z\"/>\n",
              "  </svg>\n",
              "    </button>\n",
              "\n",
              "  <style>\n",
              "    .colab-df-container {\n",
              "      display:flex;\n",
              "      gap: 12px;\n",
              "    }\n",
              "\n",
              "    .colab-df-convert {\n",
              "      background-color: #E8F0FE;\n",
              "      border: none;\n",
              "      border-radius: 50%;\n",
              "      cursor: pointer;\n",
              "      display: none;\n",
              "      fill: #1967D2;\n",
              "      height: 32px;\n",
              "      padding: 0 0 0 0;\n",
              "      width: 32px;\n",
              "    }\n",
              "\n",
              "    .colab-df-convert:hover {\n",
              "      background-color: #E2EBFA;\n",
              "      box-shadow: 0px 1px 2px rgba(60, 64, 67, 0.3), 0px 1px 3px 1px rgba(60, 64, 67, 0.15);\n",
              "      fill: #174EA6;\n",
              "    }\n",
              "\n",
              "    .colab-df-buttons div {\n",
              "      margin-bottom: 4px;\n",
              "    }\n",
              "\n",
              "    [theme=dark] .colab-df-convert {\n",
              "      background-color: #3B4455;\n",
              "      fill: #D2E3FC;\n",
              "    }\n",
              "\n",
              "    [theme=dark] .colab-df-convert:hover {\n",
              "      background-color: #434B5C;\n",
              "      box-shadow: 0px 1px 3px 1px rgba(0, 0, 0, 0.15);\n",
              "      filter: drop-shadow(0px 1px 2px rgba(0, 0, 0, 0.3));\n",
              "      fill: #FFFFFF;\n",
              "    }\n",
              "  </style>\n",
              "\n",
              "    <script>\n",
              "      const buttonEl =\n",
              "        document.querySelector('#df-45846c4a-7c50-40b6-b2c5-913851927338 button.colab-df-convert');\n",
              "      buttonEl.style.display =\n",
              "        google.colab.kernel.accessAllowed ? 'block' : 'none';\n",
              "\n",
              "      async function convertToInteractive(key) {\n",
              "        const element = document.querySelector('#df-45846c4a-7c50-40b6-b2c5-913851927338');\n",
              "        const dataTable =\n",
              "          await google.colab.kernel.invokeFunction('convertToInteractive',\n",
              "                                                    [key], {});\n",
              "        if (!dataTable) return;\n",
              "\n",
              "        const docLinkHtml = 'Like what you see? Visit the ' +\n",
              "          '<a target=\"_blank\" href=https://colab.research.google.com/notebooks/data_table.ipynb>data table notebook</a>'\n",
              "          + ' to learn more about interactive tables.';\n",
              "        element.innerHTML = '';\n",
              "        dataTable['output_type'] = 'display_data';\n",
              "        await google.colab.output.renderOutput(dataTable, element);\n",
              "        const docLink = document.createElement('div');\n",
              "        docLink.innerHTML = docLinkHtml;\n",
              "        element.appendChild(docLink);\n",
              "      }\n",
              "    </script>\n",
              "  </div>\n",
              "\n",
              "\n",
              "    <div id=\"df-3323023d-c9dd-4963-b112-75ab94a0dd84\">\n",
              "      <button class=\"colab-df-quickchart\" onclick=\"quickchart('df-3323023d-c9dd-4963-b112-75ab94a0dd84')\"\n",
              "                title=\"Suggest charts\"\n",
              "                style=\"display:none;\">\n",
              "\n",
              "<svg xmlns=\"http://www.w3.org/2000/svg\" height=\"24px\"viewBox=\"0 0 24 24\"\n",
              "     width=\"24px\">\n",
              "    <g>\n",
              "        <path d=\"M19 3H5c-1.1 0-2 .9-2 2v14c0 1.1.9 2 2 2h14c1.1 0 2-.9 2-2V5c0-1.1-.9-2-2-2zM9 17H7v-7h2v7zm4 0h-2V7h2v10zm4 0h-2v-4h2v4z\"/>\n",
              "    </g>\n",
              "</svg>\n",
              "      </button>\n",
              "\n",
              "<style>\n",
              "  .colab-df-quickchart {\n",
              "      --bg-color: #E8F0FE;\n",
              "      --fill-color: #1967D2;\n",
              "      --hover-bg-color: #E2EBFA;\n",
              "      --hover-fill-color: #174EA6;\n",
              "      --disabled-fill-color: #AAA;\n",
              "      --disabled-bg-color: #DDD;\n",
              "  }\n",
              "\n",
              "  [theme=dark] .colab-df-quickchart {\n",
              "      --bg-color: #3B4455;\n",
              "      --fill-color: #D2E3FC;\n",
              "      --hover-bg-color: #434B5C;\n",
              "      --hover-fill-color: #FFFFFF;\n",
              "      --disabled-bg-color: #3B4455;\n",
              "      --disabled-fill-color: #666;\n",
              "  }\n",
              "\n",
              "  .colab-df-quickchart {\n",
              "    background-color: var(--bg-color);\n",
              "    border: none;\n",
              "    border-radius: 50%;\n",
              "    cursor: pointer;\n",
              "    display: none;\n",
              "    fill: var(--fill-color);\n",
              "    height: 32px;\n",
              "    padding: 0;\n",
              "    width: 32px;\n",
              "  }\n",
              "\n",
              "  .colab-df-quickchart:hover {\n",
              "    background-color: var(--hover-bg-color);\n",
              "    box-shadow: 0 1px 2px rgba(60, 64, 67, 0.3), 0 1px 3px 1px rgba(60, 64, 67, 0.15);\n",
              "    fill: var(--button-hover-fill-color);\n",
              "  }\n",
              "\n",
              "  .colab-df-quickchart-complete:disabled,\n",
              "  .colab-df-quickchart-complete:disabled:hover {\n",
              "    background-color: var(--disabled-bg-color);\n",
              "    fill: var(--disabled-fill-color);\n",
              "    box-shadow: none;\n",
              "  }\n",
              "\n",
              "  .colab-df-spinner {\n",
              "    border: 2px solid var(--fill-color);\n",
              "    border-color: transparent;\n",
              "    border-bottom-color: var(--fill-color);\n",
              "    animation:\n",
              "      spin 1s steps(1) infinite;\n",
              "  }\n",
              "\n",
              "  @keyframes spin {\n",
              "    0% {\n",
              "      border-color: transparent;\n",
              "      border-bottom-color: var(--fill-color);\n",
              "      border-left-color: var(--fill-color);\n",
              "    }\n",
              "    20% {\n",
              "      border-color: transparent;\n",
              "      border-left-color: var(--fill-color);\n",
              "      border-top-color: var(--fill-color);\n",
              "    }\n",
              "    30% {\n",
              "      border-color: transparent;\n",
              "      border-left-color: var(--fill-color);\n",
              "      border-top-color: var(--fill-color);\n",
              "      border-right-color: var(--fill-color);\n",
              "    }\n",
              "    40% {\n",
              "      border-color: transparent;\n",
              "      border-right-color: var(--fill-color);\n",
              "      border-top-color: var(--fill-color);\n",
              "    }\n",
              "    60% {\n",
              "      border-color: transparent;\n",
              "      border-right-color: var(--fill-color);\n",
              "    }\n",
              "    80% {\n",
              "      border-color: transparent;\n",
              "      border-right-color: var(--fill-color);\n",
              "      border-bottom-color: var(--fill-color);\n",
              "    }\n",
              "    90% {\n",
              "      border-color: transparent;\n",
              "      border-bottom-color: var(--fill-color);\n",
              "    }\n",
              "  }\n",
              "</style>\n",
              "\n",
              "      <script>\n",
              "        async function quickchart(key) {\n",
              "          const quickchartButtonEl =\n",
              "            document.querySelector('#' + key + ' button');\n",
              "          quickchartButtonEl.disabled = true;  // To prevent multiple clicks.\n",
              "          quickchartButtonEl.classList.add('colab-df-spinner');\n",
              "          try {\n",
              "            const charts = await google.colab.kernel.invokeFunction(\n",
              "                'suggestCharts', [key], {});\n",
              "          } catch (error) {\n",
              "            console.error('Error during call to suggestCharts:', error);\n",
              "          }\n",
              "          quickchartButtonEl.classList.remove('colab-df-spinner');\n",
              "          quickchartButtonEl.classList.add('colab-df-quickchart-complete');\n",
              "        }\n",
              "        (() => {\n",
              "          let quickchartButtonEl =\n",
              "            document.querySelector('#df-3323023d-c9dd-4963-b112-75ab94a0dd84 button');\n",
              "          quickchartButtonEl.style.display =\n",
              "            google.colab.kernel.accessAllowed ? 'block' : 'none';\n",
              "        })();\n",
              "      </script>\n",
              "    </div>\n",
              "\n",
              "    </div>\n",
              "  </div>\n"
            ],
            "application/vnd.google.colaboratory.intrinsic+json": {
              "type": "dataframe",
              "variable_name": "df",
              "summary": "{\n  \"name\": \"df\",\n  \"rows\": 150,\n  \"fields\": [\n    {\n      \"column\": \"Store\",\n      \"properties\": {\n        \"dtype\": \"number\",\n        \"std\": 6.231190936905241,\n        \"min\": 1.0,\n        \"max\": 20.0,\n        \"num_unique_values\": 20,\n        \"samples\": [\n          6.0,\n          12.0,\n          19.0\n        ],\n        \"semantic_type\": \"\",\n        \"description\": \"\"\n      }\n    },\n    {\n      \"column\": \"Date\",\n      \"properties\": {\n        \"dtype\": \"object\",\n        \"num_unique_values\": 85,\n        \"samples\": [\n          \"10-09-2010\",\n          \"18-02-2011\",\n          \"09-12-2011\"\n        ],\n        \"semantic_type\": \"\",\n        \"description\": \"\"\n      }\n    },\n    {\n      \"column\": \"Weekly_Sales\",\n      \"properties\": {\n        \"dtype\": \"number\",\n        \"std\": 647463.0423486971,\n        \"min\": 268929.03,\n        \"max\": 2771397.17,\n        \"num_unique_values\": 136,\n        \"samples\": [\n          519823.3,\n          1624383.75,\n          2771397.17\n        ],\n        \"semantic_type\": \"\",\n        \"description\": \"\"\n      }\n    },\n    {\n      \"column\": \"Holiday_Flag\",\n      \"properties\": {\n        \"dtype\": \"number\",\n        \"std\": 0.2718306203754488,\n        \"min\": 0.0,\n        \"max\": 1.0,\n        \"num_unique_values\": 2,\n        \"samples\": [\n          1.0,\n          0.0\n        ],\n        \"semantic_type\": \"\",\n        \"description\": \"\"\n      }\n    },\n    {\n      \"column\": \"Temperature\",\n      \"properties\": {\n        \"dtype\": \"number\",\n        \"std\": 18.37890061969609,\n        \"min\": 18.79,\n        \"max\": 91.65,\n        \"num_unique_values\": 130,\n        \"samples\": [\n          43.43,\n          66.25\n        ],\n        \"semantic_type\": \"\",\n        \"description\": \"\"\n      }\n    },\n    {\n      \"column\": \"Fuel_Price\",\n      \"properties\": {\n        \"dtype\": \"number\",\n        \"std\": 0.47814903192626695,\n        \"min\": 2.514,\n        \"max\": 4.1930000000000005,\n        \"num_unique_values\": 120,\n        \"samples\": [\n          3.75,\n          2.653\n        ],\n        \"semantic_type\": \"\",\n        \"description\": \"\"\n      }\n    },\n    {\n      \"column\": \"CPI\",\n      \"properties\": {\n        \"dtype\": \"number\",\n        \"std\": 40.27495629088349,\n        \"min\": 126.1119032,\n        \"max\": 226.9688442,\n        \"num_unique_values\": 135,\n        \"samples\": [\n          204.6432267,\n          223.4257233\n        ],\n        \"semantic_type\": \"\",\n        \"description\": \"\"\n      }\n    },\n    {\n      \"column\": \"Unemployment\",\n      \"properties\": {\n        \"dtype\": \"number\",\n        \"std\": 1.5771725009088247,\n        \"min\": 5.143,\n        \"max\": 14.313,\n        \"num_unique_values\": 104,\n        \"samples\": [\n          8.424,\n          7.856\n        ],\n        \"semantic_type\": \"\",\n        \"description\": \"\"\n      }\n    }\n  ]\n}"
            }
          },
          "metadata": {},
          "execution_count": 57
        }
      ]
    },
    {
      "cell_type": "code",
      "execution_count": null,
      "id": "e03c9f26",
      "metadata": {
        "colab": {
          "base_uri": "https://localhost:8080/",
          "height": 331
        },
        "id": "e03c9f26",
        "outputId": "4626045b-28e0-4b07-a5d7-b14b635c3394"
      },
      "outputs": [
        {
          "output_type": "display_data",
          "data": {
            "text/plain": [
              "Store           float64\n",
              "Date             object\n",
              "Weekly_Sales    float64\n",
              "Holiday_Flag    float64\n",
              "Temperature     float64\n",
              "Fuel_Price      float64\n",
              "CPI             float64\n",
              "Unemployment    float64\n",
              "dtype: object"
            ],
            "text/html": [
              "<div>\n",
              "<style scoped>\n",
              "    .dataframe tbody tr th:only-of-type {\n",
              "        vertical-align: middle;\n",
              "    }\n",
              "\n",
              "    .dataframe tbody tr th {\n",
              "        vertical-align: top;\n",
              "    }\n",
              "\n",
              "    .dataframe thead th {\n",
              "        text-align: right;\n",
              "    }\n",
              "</style>\n",
              "<table border=\"1\" class=\"dataframe\">\n",
              "  <thead>\n",
              "    <tr style=\"text-align: right;\">\n",
              "      <th></th>\n",
              "      <th>0</th>\n",
              "    </tr>\n",
              "  </thead>\n",
              "  <tbody>\n",
              "    <tr>\n",
              "      <th>Store</th>\n",
              "      <td>float64</td>\n",
              "    </tr>\n",
              "    <tr>\n",
              "      <th>Date</th>\n",
              "      <td>object</td>\n",
              "    </tr>\n",
              "    <tr>\n",
              "      <th>Weekly_Sales</th>\n",
              "      <td>float64</td>\n",
              "    </tr>\n",
              "    <tr>\n",
              "      <th>Holiday_Flag</th>\n",
              "      <td>float64</td>\n",
              "    </tr>\n",
              "    <tr>\n",
              "      <th>Temperature</th>\n",
              "      <td>float64</td>\n",
              "    </tr>\n",
              "    <tr>\n",
              "      <th>Fuel_Price</th>\n",
              "      <td>float64</td>\n",
              "    </tr>\n",
              "    <tr>\n",
              "      <th>CPI</th>\n",
              "      <td>float64</td>\n",
              "    </tr>\n",
              "    <tr>\n",
              "      <th>Unemployment</th>\n",
              "      <td>float64</td>\n",
              "    </tr>\n",
              "  </tbody>\n",
              "</table>\n",
              "</div><br><label><b>dtype:</b> object</label>"
            ]
          },
          "metadata": {}
        }
      ],
      "source": [
        "display(df.dtypes)"
      ]
    },
    {
      "cell_type": "code",
      "source": [
        "taille_initiale = df.shape\n",
        "taille_initiale"
      ],
      "metadata": {
        "colab": {
          "base_uri": "https://localhost:8080/"
        },
        "id": "yfZ3pG_fhRUW",
        "outputId": "6f39e773-33ce-43b4-b866-a52aa53e1647"
      },
      "id": "yfZ3pG_fhRUW",
      "execution_count": null,
      "outputs": [
        {
          "output_type": "execute_result",
          "data": {
            "text/plain": [
              "(150, 8)"
            ]
          },
          "metadata": {},
          "execution_count": 59
        }
      ]
    },
    {
      "cell_type": "markdown",
      "source": [
        "# Pre-traitement des colonnes"
      ],
      "metadata": {
        "id": "pHH7XEgOKzr0"
      },
      "id": "pHH7XEgOKzr0"
    },
    {
      "cell_type": "code",
      "source": [
        "# ------------ Colonne Store ---------------- #\n",
        "# Suppression de la colonne\n",
        "\n",
        "# Visualisation des variables\n",
        "print(\"Exemple de variables:\" , df['Store'].unique())\n",
        "# Nb valeurs uniques\n",
        "print(\"Nb de valeurs uniques:\", len(df['Store'].unique()))\n",
        "# Nb valeurs totales\n",
        "print(\"Nb de valeurs totales:\", df['Store'].count())\n",
        "# Nb valeurs nulles\n",
        "print(\"Nb de valeurs nulles:\", df['Store'].isnull().sum())"
      ],
      "metadata": {
        "colab": {
          "base_uri": "https://localhost:8080/"
        },
        "id": "cKmqQa_DI83e",
        "outputId": "e3802092-3f1c-4bf6-bb87-54ac7b78dd0f"
      },
      "id": "cKmqQa_DI83e",
      "execution_count": null,
      "outputs": [
        {
          "output_type": "stream",
          "name": "stdout",
          "text": [
            "Exemple de variables: [ 6. 13. 17. 11.  4. 15. 20. 14.  3.  8. 18.  7.  1.  2.  5. 19. 16. 12.\n",
            "  9. 10.]\n",
            "Nb de valeurs uniques: 20\n",
            "Nb de valeurs totales: 150\n",
            "Nb de valeurs nulles: 0\n"
          ]
        }
      ]
    },
    {
      "cell_type": "code",
      "source": [
        "# ------------ Colonne Weekly_Sales ---------------- #\n",
        "# Suppression des valeurs manquantes\n",
        "\n",
        "# Nb valeurs nulles\n",
        "val_manq = df['Weekly_Sales'].isnull().sum()\n",
        "print(\"Nombre de valeurs manquantes=\",df['Weekly_Sales'].isnull().sum())\n",
        "pourcentages=(val_manq/df.shape[0])*100\n",
        "print(\"Quantité supprimée =\",pourcentages.round(2).astype(str) + \" %\")\n",
        "df = df.dropna(subset=['Weekly_Sales'])\n",
        "print(\"Nombre de valeurs manquantes=\", df['Weekly_Sales'].isnull().sum())\n"
      ],
      "metadata": {
        "colab": {
          "base_uri": "https://localhost:8080/"
        },
        "id": "tVBl7JHUKqBA",
        "outputId": "22c4149e-239e-4a9c-c78a-3bbed5512183"
      },
      "id": "tVBl7JHUKqBA",
      "execution_count": null,
      "outputs": [
        {
          "output_type": "stream",
          "name": "stdout",
          "text": [
            "Nombre de valeurs manquantes= 14\n",
            "Quantité supprimée = 9.33 %\n",
            "Nombre de valeurs manquantes= 0\n"
          ]
        }
      ]
    },
    {
      "cell_type": "code",
      "source": [
        "# ------------ Temperature', 'Fuel_Price', 'CPI', 'Unemployment ---------------- #\n",
        "#Suppression des outliers\n",
        "cols = ['Temperature', 'Fuel_Price', 'CPI', 'Unemployment']\n",
        "\n",
        "# Copier le DataFrame pour filtrer (optionnel)\n",
        "df_clean = df.copy()\n",
        "\n",
        "for col in cols:\n",
        "    mean = df_clean[col].mean()\n",
        "    std = df_clean[col].std()\n",
        "    lower = mean - 3 * std\n",
        "    upper = mean + 3 * std\n",
        "\n",
        "    # Garder seulement les lignes dans l'intervalle [mean - 3*std, mean + 3*std]\n",
        "    df = df_clean[(df_clean[col] >= lower) & (df_clean[col] <= upper)]\n",
        "\n",
        "print(f\"Nombre de lignes après nettoyage : {df_clean.shape[0]}\")"
      ],
      "metadata": {
        "colab": {
          "base_uri": "https://localhost:8080/"
        },
        "id": "sMazY0Wei9KE",
        "outputId": "cbfbd3a8-2eb5-4285-97a5-bf9a2fa8f4b4"
      },
      "id": "sMazY0Wei9KE",
      "execution_count": null,
      "outputs": [
        {
          "output_type": "stream",
          "name": "stdout",
          "text": [
            "Nombre de lignes après nettoyage : 136\n"
          ]
        }
      ]
    },
    {
      "cell_type": "code",
      "source": [
        "print(\"Nombre de Nan\")\n",
        "print(df.isna().sum())\n",
        "\n",
        "# Modification des Nan selon strategie de la mediane\n",
        "df['Temperature'].fillna(df['Temperature'].median(), inplace=True)\n",
        "df['Fuel_Price'].fillna(df['Fuel_Price'].median(), inplace=True)\n",
        "df['CPI'].fillna(df['CPI'].median(), inplace=True)\n",
        "df.loc[:, 'Unemployment'] = df['Unemployment'].fillna(df['Unemployment'].median())"
      ],
      "metadata": {
        "colab": {
          "base_uri": "https://localhost:8080/"
        },
        "id": "2osMW4z61hYZ",
        "outputId": "c6de52f6-59c5-4703-a2c3-9ee7001ec352"
      },
      "id": "2osMW4z61hYZ",
      "execution_count": null,
      "outputs": [
        {
          "output_type": "stream",
          "name": "stdout",
          "text": [
            "Nombre de Nan\n",
            "Store            0\n",
            "Date            15\n",
            "Weekly_Sales     0\n",
            "Holiday_Flag    10\n",
            "Temperature     11\n",
            "Fuel_Price      11\n",
            "CPI              9\n",
            "Unemployment     0\n",
            "dtype: int64\n"
          ]
        },
        {
          "output_type": "stream",
          "name": "stderr",
          "text": [
            "/tmp/ipython-input-2527688310.py:5: FutureWarning: A value is trying to be set on a copy of a DataFrame or Series through chained assignment using an inplace method.\n",
            "The behavior will change in pandas 3.0. This inplace method will never work because the intermediate object on which we are setting values always behaves as a copy.\n",
            "\n",
            "For example, when doing 'df[col].method(value, inplace=True)', try using 'df.method({col: value}, inplace=True)' or df[col] = df[col].method(value) instead, to perform the operation inplace on the original object.\n",
            "\n",
            "\n",
            "  df['Temperature'].fillna(df['Temperature'].median(), inplace=True)\n",
            "/tmp/ipython-input-2527688310.py:5: SettingWithCopyWarning: \n",
            "A value is trying to be set on a copy of a slice from a DataFrame\n",
            "\n",
            "See the caveats in the documentation: https://pandas.pydata.org/pandas-docs/stable/user_guide/indexing.html#returning-a-view-versus-a-copy\n",
            "  df['Temperature'].fillna(df['Temperature'].median(), inplace=True)\n",
            "/tmp/ipython-input-2527688310.py:6: FutureWarning: A value is trying to be set on a copy of a DataFrame or Series through chained assignment using an inplace method.\n",
            "The behavior will change in pandas 3.0. This inplace method will never work because the intermediate object on which we are setting values always behaves as a copy.\n",
            "\n",
            "For example, when doing 'df[col].method(value, inplace=True)', try using 'df.method({col: value}, inplace=True)' or df[col] = df[col].method(value) instead, to perform the operation inplace on the original object.\n",
            "\n",
            "\n",
            "  df['Fuel_Price'].fillna(df['Fuel_Price'].median(), inplace=True)\n",
            "/tmp/ipython-input-2527688310.py:6: SettingWithCopyWarning: \n",
            "A value is trying to be set on a copy of a slice from a DataFrame\n",
            "\n",
            "See the caveats in the documentation: https://pandas.pydata.org/pandas-docs/stable/user_guide/indexing.html#returning-a-view-versus-a-copy\n",
            "  df['Fuel_Price'].fillna(df['Fuel_Price'].median(), inplace=True)\n",
            "/tmp/ipython-input-2527688310.py:7: FutureWarning: A value is trying to be set on a copy of a DataFrame or Series through chained assignment using an inplace method.\n",
            "The behavior will change in pandas 3.0. This inplace method will never work because the intermediate object on which we are setting values always behaves as a copy.\n",
            "\n",
            "For example, when doing 'df[col].method(value, inplace=True)', try using 'df.method({col: value}, inplace=True)' or df[col] = df[col].method(value) instead, to perform the operation inplace on the original object.\n",
            "\n",
            "\n",
            "  df['CPI'].fillna(df['CPI'].median(), inplace=True)\n",
            "/tmp/ipython-input-2527688310.py:7: SettingWithCopyWarning: \n",
            "A value is trying to be set on a copy of a slice from a DataFrame\n",
            "\n",
            "See the caveats in the documentation: https://pandas.pydata.org/pandas-docs/stable/user_guide/indexing.html#returning-a-view-versus-a-copy\n",
            "  df['CPI'].fillna(df['CPI'].median(), inplace=True)\n"
          ]
        }
      ]
    },
    {
      "cell_type": "code",
      "source": [
        "# ------------ Colonne Date ---------------- #\n",
        "# Changement de la colonne sous polusieurs colonnes format YY / MM / DD / HH\n",
        "\n",
        "# Nb valeurs null\n",
        "print(df['Date'].isnull().sum())\n",
        "# Impossible d'attribuer les valeurs sans date.. -> suppression\n",
        "# Ratio suppression\n",
        "val_manq=df['Date'].isnull().sum()\n",
        "pourcentages=(val_manq/df.shape[0])*100\n",
        "print(\"Quantité supprimée =\",pourcentages.round(2).astype(str) + \" %\")\n",
        "df = df.dropna(subset=['Date'])\n",
        "print ()\n",
        "print(\"*****\")\n",
        "print ()\n",
        "\n",
        "#Conversion en format Datetime\n",
        "df['Date'] = pd.to_datetime(df['Date'], format='%d-%m-%Y')\n",
        "df['Year'] = df['Date'].dt.year.astype('int16')\n",
        "df['Month'] = df['Date'].dt.month.astype('int16')\n",
        "df['Day'] = df['Date'].dt.day.astype('int16')\n",
        "df['Weekday'] = df['Date'].dt.weekday.astype('int16')   # 0 = lundi, 6 = dimanche\n",
        "df['WeekdayName'] = df['Date'].dt.day_name()  # nom du jour en toutes lettres\n",
        "print(df.head())\n",
        "\n",
        "# Nb valeurs null\n",
        "print(\"***\")\n",
        "print(\"Nombre de valeurs nulles:\",df['Date'].isnull().sum())\n"
      ],
      "metadata": {
        "colab": {
          "base_uri": "https://localhost:8080/"
        },
        "id": "nFdSMdehJ6pM",
        "outputId": "8f3409dc-a380-4695-8fe4-5d78fa55f9ad"
      },
      "id": "nFdSMdehJ6pM",
      "execution_count": null,
      "outputs": [
        {
          "output_type": "stream",
          "name": "stdout",
          "text": [
            "15\n",
            "Quantité supprimée = 12.82 %\n",
            "\n",
            "*****\n",
            "\n",
            "   Store       Date  Weekly_Sales  Holiday_Flag  Temperature  Fuel_Price  \\\n",
            "0    6.0 2011-02-18    1572117.54           NaN        59.61       3.045   \n",
            "1   13.0 2011-03-25    1807545.43           0.0        42.38       3.435   \n",
            "4    6.0 2010-05-28    1644470.66           0.0        78.89       2.759   \n",
            "5    4.0 2010-05-28    1857533.70           0.0        61.45       2.756   \n",
            "6   15.0 2011-06-03     695396.19           0.0        69.80       4.069   \n",
            "\n",
            "          CPI  Unemployment  Year  Month  Day  Weekday WeekdayName  \n",
            "0  214.777523         6.858  2011      2   18        4      Friday  \n",
            "1  128.616064         7.470  2011      3   25        4      Friday  \n",
            "4  212.412888         7.092  2010      5   28        4      Friday  \n",
            "5  126.160226         7.896  2010      5   28        4      Friday  \n",
            "6  134.855161         7.658  2011      6    3        4      Friday  \n",
            "***\n",
            "Nombre de valeurs nulles: 0\n"
          ]
        }
      ]
    },
    {
      "cell_type": "code",
      "source": [
        "# ------------ Colonne Holiday_Flag ---------------- #\n",
        "print(df['Holiday_Flag'].unique())\n",
        "# Nb valeurs null\n",
        "print(df['Holiday_Flag'].isnull().sum())\n",
        "# Impossible d'attribuer une categorie aux Nan\n",
        "# Ratio suppression\n",
        "val_manq=df['Holiday_Flag'].isnull().sum()\n",
        "pourcentages=(val_manq/df.shape[0])*100\n",
        "print(\"Quantité supprimée =\",pourcentages.round(2).astype(str) + \" %\")\n",
        "df = df.dropna(subset=['Holiday_Flag'])\n"
      ],
      "metadata": {
        "colab": {
          "base_uri": "https://localhost:8080/"
        },
        "id": "7okqIj7ulfLh",
        "outputId": "19dc77bd-2b6c-41d6-93fd-0a322a33d39b"
      },
      "id": "7okqIj7ulfLh",
      "execution_count": null,
      "outputs": [
        {
          "output_type": "stream",
          "name": "stdout",
          "text": [
            "[nan  0.  1.]\n",
            "9\n",
            "Quantité supprimée = 8.82 %\n"
          ]
        }
      ]
    },
    {
      "cell_type": "code",
      "source": [
        "print(\"Nombres de lignes supprimees:\",taille_initiale[0] - df.shape[0])\n",
        "print(\"Soit:\", round((1-(df.shape[0]/taille_initiale[0]))*100),2, \"%\")"
      ],
      "metadata": {
        "colab": {
          "base_uri": "https://localhost:8080/"
        },
        "id": "_EJTPePNmGs1",
        "outputId": "03fd0e15-2917-4ecd-844b-af2ce72d908f"
      },
      "id": "_EJTPePNmGs1",
      "execution_count": null,
      "outputs": [
        {
          "output_type": "stream",
          "name": "stdout",
          "text": [
            "Nombres de lignes supprimees: 57\n",
            "Soit: 38 2 %\n"
          ]
        }
      ]
    },
    {
      "cell_type": "markdown",
      "source": [
        "# Visualisation"
      ],
      "metadata": {
        "id": "gg4XLYwGn2D-"
      },
      "id": "gg4XLYwGn2D-"
    },
    {
      "cell_type": "code",
      "source": [
        "import matplotlib.pyplot as plt\n",
        "# Mise en forme pour obtenir \"2020-01\", \"2020-02\", etc.\n",
        "df['Month2'] = df['Date'].dt.to_period('M')\n",
        "\n",
        "# Regrouper les ventes par mois (ou autre variable)\n",
        "monthly_sales = df.groupby('Month2')['Weekly_Sales'].sum()\n",
        "\n",
        "# Tracer en barres\n",
        "(monthly_sales/1000).plot(kind='bar', figsize=(12, 5))\n",
        "plt.title(\"Évolution des ventes mensuelles, (exprimees en milliers de dollars)\")\n",
        "plt.ylabel(\"Ventes\")\n",
        "plt.xlabel(\"Mois\")\n",
        "plt.xticks(rotation=45)\n",
        "plt.grid(True)\n",
        "plt.tight_layout()\n",
        "plt.show()"
      ],
      "metadata": {
        "colab": {
          "base_uri": "https://localhost:8080/",
          "height": 507
        },
        "id": "GQRh5M05pY9T",
        "outputId": "1a774789-8184-473a-8d14-5eeba3b35ce0"
      },
      "id": "GQRh5M05pY9T",
      "execution_count": null,
      "outputs": [
        {
          "output_type": "display_data",
          "data": {
            "text/plain": [
              "<Figure size 1200x500 with 1 Axes>"
            ],
            "image/png": "[encoded data removed]"
          },
          "metadata": {}
        }
      ]
    },
    {
      "cell_type": "code",
      "source": [
        "# Regrouper les ventes par mois (ou autre variable)\n",
        "yearly_sales = df.groupby('Year')['Weekly_Sales'].sum()\n",
        "\n",
        "# Tracer en barres\n",
        "(yearly_sales/1000).plot(kind='bar', figsize=(12, 5))\n",
        "plt.title(\"Évolution des ventes mensuelles (exprimees en milliers de dollars)\")\n",
        "plt.ylabel(\"Ventes\")\n",
        "plt.xlabel(\"Mois\")\n",
        "plt.xticks(rotation=45)\n",
        "plt.grid(True)\n",
        "plt.tight_layout()\n",
        "plt.show()"
      ],
      "metadata": {
        "colab": {
          "base_uri": "https://localhost:8080/",
          "height": 507
        },
        "id": "LRkGsFkWv20j",
        "outputId": "fc6a1161-6bb9-484a-99b9-33a09b2fecef"
      },
      "id": "LRkGsFkWv20j",
      "execution_count": null,
      "outputs": [
        {
          "output_type": "display_data",
          "data": {
            "text/plain": [
              "<Figure size 1200x500 with 1 Axes>"
            ],
            "image/png": "[encoded data removed]"
          },
          "metadata": {}
        }
      ]
    },
    {
      "cell_type": "code",
      "source": [
        "import matplotlib.pyplot as plt\n",
        "\n",
        "# Formater en string et non periode\n",
        "df['Year'] = df['Date'].dt.year\n",
        "df['Month'] = df['Date'].dt.month\n",
        "\n",
        "# Grouper les ventes par (Year, Month)\n",
        "grouped = df.groupby(['Year', 'Month'])['Weekly_Sales'].sum().reset_index()\n",
        "\n",
        "# Création du graphique\n",
        "plt.figure(figsize=(12, 6))\n",
        "\n",
        "# Boucler sur chaque année pour tracer une courbe\n",
        "for year in sorted(grouped['Year'].unique()):\n",
        "    monthly_sales = grouped[grouped['Year'] == year]\n",
        "    plt.plot(monthly_sales['Month'], monthly_sales['Weekly_Sales'], marker='o', label=str(year))\n",
        "\n",
        "# Personnalisation du graphique\n",
        "plt.title(\"Évolution des ventes mensuelles par année\")\n",
        "plt.xlabel(\"Mois\")\n",
        "plt.ylabel(\"Ventes mensuelles\")\n",
        "plt.xticks(range(1, 13))\n",
        "plt.legend(title=\"Année\")\n",
        "plt.grid(True)\n",
        "plt.tight_layout()\n",
        "plt.show()\n"
      ],
      "metadata": {
        "colab": {
          "base_uri": "https://localhost:8080/",
          "height": 607
        },
        "id": "HC7TezVFm_7H",
        "outputId": "706d6134-d299-49a0-ca03-391c6d608795"
      },
      "id": "HC7TezVFm_7H",
      "execution_count": null,
      "outputs": [
        {
          "output_type": "display_data",
          "data": {
            "text/plain": [
              "<Figure size 1200x600 with 1 Axes>"
            ],
            "image/png": "[encoded data removed]"
          },
          "metadata": {}
        }
      ]
    },
    {
      "cell_type": "code",
      "source": [
        "pivot_df = grouped.pivot(index='Month', columns='Year', values='Weekly_Sales')\n",
        "\n",
        "# 5. Plot groupé\n",
        "pivot_df.plot(kind='bar', figsize=(12, 6))\n",
        "\n",
        "plt.title(\"Évolution des ventes mensuelles par année\")\n",
        "plt.xlabel(\"Mois\")\n",
        "plt.ylabel(\"Ventes mensuelles\")\n",
        "plt.xticks(ticks=range(0,12), labels=['Jan', 'Feb', 'Mar', 'Apr', 'May', 'Jun',\n",
        "                                      'Jul', 'Aug', 'Sep', 'Oct', 'Nov', 'Dec'], rotation=0)\n",
        "plt.legend(title=\"Année\")\n",
        "plt.grid(axis='y')\n",
        "plt.tight_layout()\n",
        "plt.show()\n",
        "\n",
        "# Peu significatif, les mois d'avril et septembre semblent toutefois etre les moins rentables"
      ],
      "metadata": {
        "colab": {
          "base_uri": "https://localhost:8080/",
          "height": 607
        },
        "id": "HGSInD0Up_1P",
        "outputId": "32bbbfb9-dc9c-43a7-d567-7d23bd461dfd"
      },
      "id": "HGSInD0Up_1P",
      "execution_count": null,
      "outputs": [
        {
          "output_type": "display_data",
          "data": {
            "text/plain": [
              "<Figure size 1200x600 with 1 Axes>"
            ],
            "image/png": "[encoded data removed]"
          },
          "metadata": {}
        }
      ]
    },
    {
      "cell_type": "code",
      "source": [
        "df['WeekdayName'].unique()\n",
        "# impossible de comparer les ventes par jour de la semaine"
      ],
      "metadata": {
        "colab": {
          "base_uri": "https://localhost:8080/"
        },
        "id": "NIAzjIQcvpzQ",
        "outputId": "98aa23d6-83b8-4e1f-e0c0-ad6626b475c1"
      },
      "id": "NIAzjIQcvpzQ",
      "execution_count": null,
      "outputs": [
        {
          "output_type": "execute_result",
          "data": {
            "text/plain": [
              "array(['Friday'], dtype=object)"
            ]
          },
          "metadata": {},
          "execution_count": 71
        }
      ]
    },
    {
      "cell_type": "code",
      "source": [
        "plt.figure(figsize=(10, 6))\n",
        "df['Weekly_Sales2'] = df['Weekly_Sales']/1000\n",
        "plt.scatter(df['Temperature'], df['Weekly_Sales2'], alpha=0.5, color='teal')\n",
        "plt.title(\"Relation entre Température et Ventes (exprimees en k$)\")\n",
        "plt.xlabel(\"Température (°F)\")\n",
        "plt.ylabel(\"Ventes hebdomadaires\")\n",
        "plt.grid(True)\n",
        "plt.show()\n",
        "\n",
        "# La temperature semble avoir un effet negatif sur les ventes"
      ],
      "metadata": {
        "colab": {
          "base_uri": "https://localhost:8080/",
          "height": 565
        },
        "id": "e36IKbe8tBd_",
        "outputId": "47f69f27-c966-41ea-f77c-a81ab232f26b"
      },
      "id": "e36IKbe8tBd_",
      "execution_count": null,
      "outputs": [
        {
          "output_type": "display_data",
          "data": {
            "text/plain": [
              "<Figure size 1000x600 with 1 Axes>"
            ],
            "image/png": "[encoded data removed]"
          },
          "metadata": {}
        }
      ]
    },
    {
      "cell_type": "code",
      "source": [
        "plt.figure(figsize=(10, 6))\n",
        "plt.scatter(df['Fuel_Price'], df['Weekly_Sales'], alpha=0.5, color='teal')\n",
        "plt.title(\"Relation entre Prix de l'essence et Ventes\")\n",
        "plt.xlabel(\"Prix en dollars\")\n",
        "plt.ylabel(\"Ventes hebdomadaires\")\n",
        "plt.grid(True)\n",
        "plt.show()\n",
        "# le prix de l'essence semble avoir un faible impact"
      ],
      "metadata": {
        "colab": {
          "base_uri": "https://localhost:8080/",
          "height": 564
        },
        "id": "jpkKT7KNtYgP",
        "outputId": "49eda79c-7478-4327-f2f8-993897878240"
      },
      "id": "jpkKT7KNtYgP",
      "execution_count": null,
      "outputs": [
        {
          "output_type": "display_data",
          "data": {
            "text/plain": [
              "<Figure size 1000x600 with 1 Axes>"
            ],
            "image/png": "[encoded data removed]"
          },
          "metadata": {}
        }
      ]
    },
    {
      "cell_type": "code",
      "source": [
        "import seaborn as sns\n",
        "plt.figure(figsize=(8, 6))\n",
        "sns.boxplot(x='Holiday_Flag', y='Weekly_Sales', data=df)\n",
        "plt.title(\"Relation entre Période de vacances et Ventes\")\n",
        "plt.xlabel(\"Vacances (0 = Non, 1 = Oui)\")\n",
        "plt.ylabel(\"Ventes hebdomadaires\")\n",
        "plt.xticks([0, 1], ['Non Vacances', 'Vacances'])\n",
        "plt.grid(True)\n",
        "plt.show()\n",
        "\n",
        "# On remarque une baisse des ventes en periode de vacances"
      ],
      "metadata": {
        "colab": {
          "base_uri": "https://localhost:8080/",
          "height": 564
        },
        "id": "ErzV6SNztxmE",
        "outputId": "412eeb68-e3fd-4bc5-ab53-cea4dc069ee3"
      },
      "id": "ErzV6SNztxmE",
      "execution_count": null,
      "outputs": [
        {
          "output_type": "display_data",
          "data": {
            "text/plain": [
              "<Figure size 800x600 with 1 Axes>"
            ],
            "image/png": "[encoded data removed]"
          },
          "metadata": {}
        }
      ]
    },
    {
      "cell_type": "markdown",
      "source": [
        "# Entrainement des models"
      ],
      "metadata": {
        "id": "DIGvy0o7x0qY"
      },
      "id": "DIGvy0o7x0qY"
    },
    {
      "cell_type": "code",
      "source": [
        "df.head()"
      ],
      "metadata": {
        "colab": {
          "base_uri": "https://localhost:8080/",
          "height": 204
        },
        "id": "qp48A4bIyteX",
        "outputId": "bb324df4-028e-4ed1-d1f3-4f3babb21fb5"
      },
      "id": "qp48A4bIyteX",
      "execution_count": null,
      "outputs": [
        {
          "output_type": "execute_result",
          "data": {
            "text/plain": [
              "   Store       Date  Weekly_Sales  Holiday_Flag  Temperature  Fuel_Price  \\\n",
              "1   13.0 2011-03-25    1807545.43           0.0        42.38       3.435   \n",
              "4    6.0 2010-05-28    1644470.66           0.0        78.89       2.759   \n",
              "5    4.0 2010-05-28    1857533.70           0.0        61.45       2.756   \n",
              "6   15.0 2011-06-03     695396.19           0.0        69.80       4.069   \n",
              "7   20.0 2012-02-03    2203523.20           0.0        39.93       3.617   \n",
              "\n",
              "          CPI  Unemployment  Year  Month  Day  Weekday WeekdayName   Month2  \\\n",
              "1  128.616064         7.470  2011      3   25        4      Friday  2011-03   \n",
              "4  212.412888         7.092  2010      5   28        4      Friday  2010-05   \n",
              "5  126.160226         7.896  2010      5   28        4      Friday  2010-05   \n",
              "6  134.855161         7.658  2011      6    3        4      Friday  2011-06   \n",
              "7  213.023622         6.961  2012      2    3        4      Friday  2012-02   \n",
              "\n",
              "   Weekly_Sales2  \n",
              "1     1807.54543  \n",
              "4     1644.47066  \n",
              "5     1857.53370  \n",
              "6      695.39619  \n",
              "7     2203.52320  "
            ],
            "text/html": [
              "\n",
              "  <div id=\"df-39371766-2a1e-436c-948c-db276e62586f\" class=\"colab-df-container\">\n",
              "    <div>\n",
              "<style scoped>\n",
              "    .dataframe tbody tr th:only-of-type {\n",
              "        vertical-align: middle;\n",
              "    }\n",
              "\n",
              "    .dataframe tbody tr th {\n",
              "        vertical-align: top;\n",
              "    }\n",
              "\n",
              "    .dataframe thead th {\n",
              "        text-align: right;\n",
              "    }\n",
              "</style>\n",
              "<table border=\"1\" class=\"dataframe\">\n",
              "  <thead>\n",
              "    <tr style=\"text-align: right;\">\n",
              "      <th></th>\n",
              "      <th>Store</th>\n",
              "      <th>Date</th>\n",
              "      <th>Weekly_Sales</th>\n",
              "      <th>Holiday_Flag</th>\n",
              "      <th>Temperature</th>\n",
              "      <th>Fuel_Price</th>\n",
              "      <th>CPI</th>\n",
              "      <th>Unemployment</th>\n",
              "      <th>Year</th>\n",
              "      <th>Month</th>\n",
              "      <th>Day</th>\n",
              "      <th>Weekday</th>\n",
              "      <th>WeekdayName</th>\n",
              "      <th>Month2</th>\n",
              "      <th>Weekly_Sales2</th>\n",
              "    </tr>\n",
              "  </thead>\n",
              "  <tbody>\n",
              "    <tr>\n",
              "      <th>1</th>\n",
              "      <td>13.0</td>\n",
              "      <td>2011-03-25</td>\n",
              "      <td>1807545.43</td>\n",
              "      <td>0.0</td>\n",
              "      <td>42.38</td>\n",
              "      <td>3.435</td>\n",
              "      <td>128.616064</td>\n",
              "      <td>7.470</td>\n",
              "      <td>2011</td>\n",
              "      <td>3</td>\n",
              "      <td>25</td>\n",
              "      <td>4</td>\n",
              "      <td>Friday</td>\n",
              "      <td>2011-03</td>\n",
              "      <td>1807.54543</td>\n",
              "    </tr>\n",
              "    <tr>\n",
              "      <th>4</th>\n",
              "      <td>6.0</td>\n",
              "      <td>2010-05-28</td>\n",
              "      <td>1644470.66</td>\n",
              "      <td>0.0</td>\n",
              "      <td>78.89</td>\n",
              "      <td>2.759</td>\n",
              "      <td>212.412888</td>\n",
              "      <td>7.092</td>\n",
              "      <td>2010</td>\n",
              "      <td>5</td>\n",
              "      <td>28</td>\n",
              "      <td>4</td>\n",
              "      <td>Friday</td>\n",
              "      <td>2010-05</td>\n",
              "      <td>1644.47066</td>\n",
              "    </tr>\n",
              "    <tr>\n",
              "      <th>5</th>\n",
              "      <td>4.0</td>\n",
              "      <td>2010-05-28</td>\n",
              "      <td>1857533.70</td>\n",
              "      <td>0.0</td>\n",
              "      <td>61.45</td>\n",
              "      <td>2.756</td>\n",
              "      <td>126.160226</td>\n",
              "      <td>7.896</td>\n",
              "      <td>2010</td>\n",
              "      <td>5</td>\n",
              "      <td>28</td>\n",
              "      <td>4</td>\n",
              "      <td>Friday</td>\n",
              "      <td>2010-05</td>\n",
              "      <td>1857.53370</td>\n",
              "    </tr>\n",
              "    <tr>\n",
              "      <th>6</th>\n",
              "      <td>15.0</td>\n",
              "      <td>2011-06-03</td>\n",
              "      <td>695396.19</td>\n",
              "      <td>0.0</td>\n",
              "      <td>69.80</td>\n",
              "      <td>4.069</td>\n",
              "      <td>134.855161</td>\n",
              "      <td>7.658</td>\n",
              "      <td>2011</td>\n",
              "      <td>6</td>\n",
              "      <td>3</td>\n",
              "      <td>4</td>\n",
              "      <td>Friday</td>\n",
              "      <td>2011-06</td>\n",
              "      <td>695.39619</td>\n",
              "    </tr>\n",
              "    <tr>\n",
              "      <th>7</th>\n",
              "      <td>20.0</td>\n",
              "      <td>2012-02-03</td>\n",
              "      <td>2203523.20</td>\n",
              "      <td>0.0</td>\n",
              "      <td>39.93</td>\n",
              "      <td>3.617</td>\n",
              "      <td>213.023622</td>\n",
              "      <td>6.961</td>\n",
              "      <td>2012</td>\n",
              "      <td>2</td>\n",
              "      <td>3</td>\n",
              "      <td>4</td>\n",
              "      <td>Friday</td>\n",
              "      <td>2012-02</td>\n",
              "      <td>2203.52320</td>\n",
              "    </tr>\n",
              "  </tbody>\n",
              "</table>\n",
              "</div>\n",
              "    <div class=\"colab-df-buttons\">\n",
              "\n",
              "  <div class=\"colab-df-container\">\n",
              "    <button class=\"colab-df-convert\" onclick=\"convertToInteractive('df-39371766-2a1e-436c-948c-db276e62586f')\"\n",
              "            title=\"Convert this dataframe to an interactive table.\"\n",
              "            style=\"display:none;\">\n",
              "\n",
              "  <svg xmlns=\"http://www.w3.org/2000/svg\" height=\"24px\" viewBox=\"0 -960 960 960\">\n",
              "    <path d=\"M120-120v-720h720v720H120Zm60-500h600v-160H180v160Zm220 220h160v-160H400v160Zm0 220h160v-160H400v160ZM180-400h160v-160H180v160Zm440 0h160v-160H620v160ZM180-180h160v-160H180v160Zm440 0h160v-160H620v160Z\"/>\n",
              "  </svg>\n",
              "    </button>\n",
              "\n",
              "  <style>\n",
              "    .colab-df-container {\n",
              "      display:flex;\n",
              "      gap: 12px;\n",
              "    }\n",
              "\n",
              "    .colab-df-convert {\n",
              "      background-color: #E8F0FE;\n",
              "      border: none;\n",
              "      border-radius: 50%;\n",
              "      cursor: pointer;\n",
              "      display: none;\n",
              "      fill: #1967D2;\n",
              "      height: 32px;\n",
              "      padding: 0 0 0 0;\n",
              "      width: 32px;\n",
              "    }\n",
              "\n",
              "    .colab-df-convert:hover {\n",
              "      background-color: #E2EBFA;\n",
              "      box-shadow: 0px 1px 2px rgba(60, 64, 67, 0.3), 0px 1px 3px 1px rgba(60, 64, 67, 0.15);\n",
              "      fill: #174EA6;\n",
              "    }\n",
              "\n",
              "    .colab-df-buttons div {\n",
              "      margin-bottom: 4px;\n",
              "    }\n",
              "\n",
              "    [theme=dark] .colab-df-convert {\n",
              "      background-color: #3B4455;\n",
              "      fill: #D2E3FC;\n",
              "    }\n",
              "\n",
              "    [theme=dark] .colab-df-convert:hover {\n",
              "      background-color: #434B5C;\n",
              "      box-shadow: 0px 1px 3px 1px rgba(0, 0, 0, 0.15);\n",
              "      filter: drop-shadow(0px 1px 2px rgba(0, 0, 0, 0.3));\n",
              "      fill: #FFFFFF;\n",
              "    }\n",
              "  </style>\n",
              "\n",
              "    <script>\n",
              "      const buttonEl =\n",
              "        document.querySelector('#df-39371766-2a1e-436c-948c-db276e62586f button.colab-df-convert');\n",
              "      buttonEl.style.display =\n",
              "        google.colab.kernel.accessAllowed ? 'block' : 'none';\n",
              "\n",
              "      async function convertToInteractive(key) {\n",
              "        const element = document.querySelector('#df-39371766-2a1e-436c-948c-db276e62586f');\n",
              "        const dataTable =\n",
              "          await google.colab.kernel.invokeFunction('convertToInteractive',\n",
              "                                                    [key], {});\n",
              "        if (!dataTable) return;\n",
              "\n",
              "        const docLinkHtml = 'Like what you see? Visit the ' +\n",
              "          '<a target=\"_blank\" href=https://colab.research.google.com/notebooks/data_table.ipynb>data table notebook</a>'\n",
              "          + ' to learn more about interactive tables.';\n",
              "        element.innerHTML = '';\n",
              "        dataTable['output_type'] = 'display_data';\n",
              "        await google.colab.output.renderOutput(dataTable, element);\n",
              "        const docLink = document.createElement('div');\n",
              "        docLink.innerHTML = docLinkHtml;\n",
              "        element.appendChild(docLink);\n",
              "      }\n",
              "    </script>\n",
              "  </div>\n",
              "\n",
              "\n",
              "    <div id=\"df-7fedeece-db30-4d97-acfb-041c4cdfd7a3\">\n",
              "      <button class=\"colab-df-quickchart\" onclick=\"quickchart('df-7fedeece-db30-4d97-acfb-041c4cdfd7a3')\"\n",
              "                title=\"Suggest charts\"\n",
              "                style=\"display:none;\">\n",
              "\n",
              "<svg xmlns=\"http://www.w3.org/2000/svg\" height=\"24px\"viewBox=\"0 0 24 24\"\n",
              "     width=\"24px\">\n",
              "    <g>\n",
              "        <path d=\"M19 3H5c-1.1 0-2 .9-2 2v14c0 1.1.9 2 2 2h14c1.1 0 2-.9 2-2V5c0-1.1-.9-2-2-2zM9 17H7v-7h2v7zm4 0h-2V7h2v10zm4 0h-2v-4h2v4z\"/>\n",
              "    </g>\n",
              "</svg>\n",
              "      </button>\n",
              "\n",
              "<style>\n",
              "  .colab-df-quickchart {\n",
              "      --bg-color: #E8F0FE;\n",
              "      --fill-color: #1967D2;\n",
              "      --hover-bg-color: #E2EBFA;\n",
              "      --hover-fill-color: #174EA6;\n",
              "      --disabled-fill-color: #AAA;\n",
              "      --disabled-bg-color: #DDD;\n",
              "  }\n",
              "\n",
              "  [theme=dark] .colab-df-quickchart {\n",
              "      --bg-color: #3B4455;\n",
              "      --fill-color: #D2E3FC;\n",
              "      --hover-bg-color: #434B5C;\n",
              "      --hover-fill-color: #FFFFFF;\n",
              "      --disabled-bg-color: #3B4455;\n",
              "      --disabled-fill-color: #666;\n",
              "  }\n",
              "\n",
              "  .colab-df-quickchart {\n",
              "    background-color: var(--bg-color);\n",
              "    border: none;\n",
              "    border-radius: 50%;\n",
              "    cursor: pointer;\n",
              "    display: none;\n",
              "    fill: var(--fill-color);\n",
              "    height: 32px;\n",
              "    padding: 0;\n",
              "    width: 32px;\n",
              "  }\n",
              "\n",
              "  .colab-df-quickchart:hover {\n",
              "    background-color: var(--hover-bg-color);\n",
              "    box-shadow: 0 1px 2px rgba(60, 64, 67, 0.3), 0 1px 3px 1px rgba(60, 64, 67, 0.15);\n",
              "    fill: var(--button-hover-fill-color);\n",
              "  }\n",
              "\n",
              "  .colab-df-quickchart-complete:disabled,\n",
              "  .colab-df-quickchart-complete:disabled:hover {\n",
              "    background-color: var(--disabled-bg-color);\n",
              "    fill: var(--disabled-fill-color);\n",
              "    box-shadow: none;\n",
              "  }\n",
              "\n",
              "  .colab-df-spinner {\n",
              "    border: 2px solid var(--fill-color);\n",
              "    border-color: transparent;\n",
              "    border-bottom-color: var(--fill-color);\n",
              "    animation:\n",
              "      spin 1s steps(1) infinite;\n",
              "  }\n",
              "\n",
              "  @keyframes spin {\n",
              "    0% {\n",
              "      border-color: transparent;\n",
              "      border-bottom-color: var(--fill-color);\n",
              "      border-left-color: var(--fill-color);\n",
              "    }\n",
              "    20% {\n",
              "      border-color: transparent;\n",
              "      border-left-color: var(--fill-color);\n",
              "      border-top-color: var(--fill-color);\n",
              "    }\n",
              "    30% {\n",
              "      border-color: transparent;\n",
              "      border-left-color: var(--fill-color);\n",
              "      border-top-color: var(--fill-color);\n",
              "      border-right-color: var(--fill-color);\n",
              "    }\n",
              "    40% {\n",
              "      border-color: transparent;\n",
              "      border-right-color: var(--fill-color);\n",
              "      border-top-color: var(--fill-color);\n",
              "    }\n",
              "    60% {\n",
              "      border-color: transparent;\n",
              "      border-right-color: var(--fill-color);\n",
              "    }\n",
              "    80% {\n",
              "      border-color: transparent;\n",
              "      border-right-color: var(--fill-color);\n",
              "      border-bottom-color: var(--fill-color);\n",
              "    }\n",
              "    90% {\n",
              "      border-color: transparent;\n",
              "      border-bottom-color: var(--fill-color);\n",
              "    }\n",
              "  }\n",
              "</style>\n",
              "\n",
              "      <script>\n",
              "        async function quickchart(key) {\n",
              "          const quickchartButtonEl =\n",
              "            document.querySelector('#' + key + ' button');\n",
              "          quickchartButtonEl.disabled = true;  // To prevent multiple clicks.\n",
              "          quickchartButtonEl.classList.add('colab-df-spinner');\n",
              "          try {\n",
              "            const charts = await google.colab.kernel.invokeFunction(\n",
              "                'suggestCharts', [key], {});\n",
              "          } catch (error) {\n",
              "            console.error('Error during call to suggestCharts:', error);\n",
              "          }\n",
              "          quickchartButtonEl.classList.remove('colab-df-spinner');\n",
              "          quickchartButtonEl.classList.add('colab-df-quickchart-complete');\n",
              "        }\n",
              "        (() => {\n",
              "          let quickchartButtonEl =\n",
              "            document.querySelector('#df-7fedeece-db30-4d97-acfb-041c4cdfd7a3 button');\n",
              "          quickchartButtonEl.style.display =\n",
              "            google.colab.kernel.accessAllowed ? 'block' : 'none';\n",
              "        })();\n",
              "      </script>\n",
              "    </div>\n",
              "\n",
              "    </div>\n",
              "  </div>\n"
            ],
            "application/vnd.google.colaboratory.intrinsic+json": {
              "type": "dataframe",
              "variable_name": "df",
              "summary": "{\n  \"name\": \"df\",\n  \"rows\": 93,\n  \"fields\": [\n    {\n      \"column\": \"Store\",\n      \"properties\": {\n        \"dtype\": \"number\",\n        \"std\": 6.285311654166031,\n        \"min\": 1.0,\n        \"max\": 20.0,\n        \"num_unique_values\": 19,\n        \"samples\": [\n          13.0,\n          8.0,\n          5.0\n        ],\n        \"semantic_type\": \"\",\n        \"description\": \"\"\n      }\n    },\n    {\n      \"column\": \"Date\",\n      \"properties\": {\n        \"dtype\": \"date\",\n        \"min\": \"2010-02-05 00:00:00\",\n        \"max\": \"2012-10-19 00:00:00\",\n        \"num_unique_values\": 72,\n        \"samples\": [\n          \"2011-08-19 00:00:00\",\n          \"2012-09-07 00:00:00\",\n          \"2011-08-26 00:00:00\"\n        ],\n        \"semantic_type\": \"\",\n        \"description\": \"\"\n      }\n    },\n    {\n      \"column\": \"Weekly_Sales\",\n      \"properties\": {\n        \"dtype\": \"number\",\n        \"std\": 681674.1760875824,\n        \"min\": 268929.03,\n        \"max\": 2771397.17,\n        \"num_unique_values\": 93,\n        \"samples\": [\n          888816.78,\n          563460.77,\n          519823.3\n        ],\n        \"semantic_type\": \"\",\n        \"description\": \"\"\n      }\n    },\n    {\n      \"column\": \"Holiday_Flag\",\n      \"properties\": {\n        \"dtype\": \"number\",\n        \"std\": 0.26525455943239273,\n        \"min\": 0.0,\n        \"max\": 1.0,\n        \"num_unique_values\": 2,\n        \"samples\": [\n          1.0,\n          0.0\n        ],\n        \"semantic_type\": \"\",\n        \"description\": \"\"\n      }\n    },\n    {\n      \"column\": \"Temperature\",\n      \"properties\": {\n        \"dtype\": \"number\",\n        \"std\": 16.672667805517978,\n        \"min\": 18.79,\n        \"max\": 90.32,\n        \"num_unique_values\": 86,\n        \"samples\": [\n          75.95,\n          42.38\n        ],\n        \"semantic_type\": \"\",\n        \"description\": \"\"\n      }\n    },\n    {\n      \"column\": \"Fuel_Price\",\n      \"properties\": {\n        \"dtype\": \"number\",\n        \"std\": 0.46272607043216946,\n        \"min\": 2.548,\n        \"max\": 4.17,\n        \"num_unique_values\": 80,\n        \"samples\": [\n          2.548,\n          3.435\n        ],\n        \"semantic_type\": \"\",\n        \"description\": \"\"\n      }\n    },\n    {\n      \"column\": \"CPI\",\n      \"properties\": {\n        \"dtype\": \"number\",\n        \"std\": 38.176142579288324,\n        \"min\": 126.1266,\n        \"max\": 226.9688442,\n        \"num_unique_values\": 85,\n        \"samples\": [\n          217.0146941,\n          128.6160645\n        ],\n        \"semantic_type\": \"\",\n        \"description\": \"\"\n      }\n    },\n    {\n      \"column\": \"Unemployment\",\n      \"properties\": {\n        \"dtype\": \"number\",\n        \"std\": 0.9723094005305002,\n        \"min\": 5.143,\n        \"max\": 9.524,\n        \"num_unique_values\": 77,\n        \"samples\": [\n          6.961,\n          6.162000000000001\n        ],\n        \"semantic_type\": \"\",\n        \"description\": \"\"\n      }\n    },\n    {\n      \"column\": \"Year\",\n      \"properties\": {\n        \"dtype\": \"int32\",\n        \"num_unique_values\": 3,\n        \"samples\": [\n          2011,\n          2010\n        ],\n        \"semantic_type\": \"\",\n        \"description\": \"\"\n      }\n    },\n    {\n      \"column\": \"Month\",\n      \"properties\": {\n        \"dtype\": \"int32\",\n        \"num_unique_values\": 12,\n        \"samples\": [\n          11,\n          9\n        ],\n        \"semantic_type\": \"\",\n        \"description\": \"\"\n      }\n    },\n    {\n      \"column\": \"Day\",\n      \"properties\": {\n        \"dtype\": \"int16\",\n        \"num_unique_values\": 29,\n        \"samples\": [\n          29,\n          11\n        ],\n        \"semantic_type\": \"\",\n        \"description\": \"\"\n      }\n    },\n    {\n      \"column\": \"Weekday\",\n      \"properties\": {\n        \"dtype\": \"int16\",\n        \"num_unique_values\": 1,\n        \"samples\": [\n          4\n        ],\n        \"semantic_type\": \"\",\n        \"description\": \"\"\n      }\n    },\n    {\n      \"column\": \"WeekdayName\",\n      \"properties\": {\n        \"dtype\": \"category\",\n        \"num_unique_values\": 1,\n        \"samples\": [\n          \"Friday\"\n        ],\n        \"semantic_type\": \"\",\n        \"description\": \"\"\n      }\n    },\n    {\n      \"column\": \"Month2\",\n      \"properties\": {\n        \"dtype\": \"period[M]\",\n        \"num_unique_values\": 31,\n        \"samples\": [\n          \"2010-09\"\n        ],\n        \"semantic_type\": \"\",\n        \"description\": \"\"\n      }\n    },\n    {\n      \"column\": \"Weekly_Sales2\",\n      \"properties\": {\n        \"dtype\": \"number\",\n        \"std\": 681.6741760875824,\n        \"min\": 268.92903,\n        \"max\": 2771.3971699999997,\n        \"num_unique_values\": 93,\n        \"samples\": [\n          888.81678\n        ],\n        \"semantic_type\": \"\",\n        \"description\": \"\"\n      }\n    }\n  ]\n}"
            }
          },
          "metadata": {},
          "execution_count": 75
        }
      ]
    },
    {
      "cell_type": "code",
      "source": [
        "print(\"Nombre de Nan\")\n",
        "print(df.isna().sum())"
      ],
      "metadata": {
        "colab": {
          "base_uri": "https://localhost:8080/"
        },
        "id": "Akhy3k6XQSOc",
        "outputId": "d3121510-84ce-4e24-dca9-aa3c88cfe45a"
      },
      "id": "Akhy3k6XQSOc",
      "execution_count": null,
      "outputs": [
        {
          "output_type": "stream",
          "name": "stdout",
          "text": [
            "Nombre de Nan\n",
            "Store            0\n",
            "Date             0\n",
            "Weekly_Sales     0\n",
            "Holiday_Flag     0\n",
            "Temperature      0\n",
            "Fuel_Price       0\n",
            "CPI              0\n",
            "Unemployment     0\n",
            "Year             0\n",
            "Month            0\n",
            "Day              0\n",
            "Weekday          0\n",
            "WeekdayName      0\n",
            "Month2           0\n",
            "Weekly_Sales2    0\n",
            "dtype: int64\n"
          ]
        }
      ]
    },
    {
      "cell_type": "code",
      "source": [
        "import pandas as pd\n",
        "from sklearn.model_selection import train_test_split\n",
        "from sklearn.ensemble import RandomForestRegressor\n",
        "from sklearn.preprocessing import OneHotEncoder, StandardScaler\n",
        "from sklearn.linear_model import LinearRegression\n",
        "from sklearn.compose import ColumnTransformer\n",
        "from sklearn.pipeline import Pipeline\n",
        "from sklearn.metrics import mean_squared_error, r2_score\n",
        "\n",
        "# Préparation des features et cible\n",
        "X = df[['Store','Holiday_Flag', 'Temperature', 'Fuel_Price', 'CPI', 'Unemployment',\n",
        "        'Year', 'Month', 'Day', 'Weekday']]\n",
        "y = df['Weekly_Sales']\n",
        "\n",
        "# Séparer catégorielles et numériques\n",
        "cat_features = ['Store', 'Holiday_Flag']\n",
        "num_features = ['Temperature', 'Fuel_Price', 'CPI', 'Unemployment', 'Year', 'Month', 'Day', 'Weekday']\n",
        "\n",
        "# Préparation du pipeline de transformation\n",
        "preprocessor = ColumnTransformer(\n",
        "    transformers=[\n",
        "        ('cat', OneHotEncoder(handle_unknown='ignore'), cat_features),\n",
        "        ('num', StandardScaler(), num_features)\n",
        "    ])\n",
        "\n",
        "# Pipeline complet : préprocessing + modèle\n",
        "pipeline_lr = Pipeline(steps=[\n",
        "    ('preprocessor', preprocessor),\n",
        "    ('regressor', LinearRegression())\n",
        "])\n",
        "\n",
        "# Split train/test\n",
        "X_train, X_test, y_train, y_test = train_test_split(X, y, test_size=0.2, random_state=42)\n"
      ],
      "metadata": {
        "id": "cx4kSsmM0yoY"
      },
      "id": "cx4kSsmM0yoY",
      "execution_count": null,
      "outputs": []
    },
    {
      "cell_type": "code",
      "source": [
        "# Entraînement Model Regression Lineaire\n",
        "print(\"Modele de regression Lineaire....\")\n",
        "pipeline_lr.fit(X_train, y_train)\n",
        "\n",
        "# Prédictions\n",
        "y_train_pred = pipeline_lr.predict(X_train)\n",
        "y_pred = pipeline_lr.predict(X_test)\n",
        "\n",
        "# Évaluation\n",
        "rmse_train = mean_squared_error(y_train, y_train_pred)\n",
        "r2_train = r2_score(y_train, y_train_pred)\n",
        "rmse_test = mean_squared_error(y_test, y_pred)\n",
        "r2_test = r2_score(y_test, y_pred)\n",
        "\n",
        "print(\"Performance sur l'entraînement :\")\n",
        "print(f\"  RMSE: {rmse_train:.2f}\")\n",
        "print(f\"  R2: {r2_train:.2f}\")\n",
        "\n",
        "print(\"Performance sur le test :\")\n",
        "print(f\"  RMSE: {rmse_test:.2f}\")\n",
        "print(f\"  R2: {r2_test:.2f}\")\n",
        "\n",
        "\n",
        "print(\"Analyse: bon apprentissage, mais leger overfitting\")"
      ],
      "metadata": {
        "colab": {
          "base_uri": "https://localhost:8080/"
        },
        "id": "lKYATGfiPl-U",
        "outputId": "f3c2881f-1c51-41d5-e699-c81892b4d54b"
      },
      "id": "lKYATGfiPl-U",
      "execution_count": null,
      "outputs": [
        {
          "output_type": "stream",
          "name": "stdout",
          "text": [
            "Modele de regression Lineaire....\n",
            "Performance sur l'entraînement :\n",
            "  RMSE: 10854453423.68\n",
            "  R2: 0.98\n",
            "Performance sur le test :\n",
            "  RMSE: 84809680749.38\n",
            "  R2: 0.82\n",
            "Analyse: bon apprentissage, mais leger overfitting\n"
          ]
        }
      ]
    },
    {
      "cell_type": "markdown",
      "source": [
        "# Features importance"
      ],
      "metadata": {
        "id": "1OGAzmrj9YMq"
      },
      "id": "1OGAzmrj9YMq"
    },
    {
      "cell_type": "code",
      "source": [
        "# Features importance...\n",
        "import numpy as np\n",
        "\n",
        "# Importance des variables\n",
        "print(f\"  Importance des variables:\")\n",
        "\n",
        "# Récupérer les noms des colonnes après transformation\n",
        "ohe = pipeline_lr.named_steps['preprocessor'].named_transformers_['cat']\n",
        "cat_feature_names = ohe.get_feature_names_out(cat_features)\n",
        "all_feature_names = np.concatenate([cat_feature_names, num_features])\n",
        "\n",
        "\n",
        "coeffs = pipeline_lr.named_steps['regressor'].coef_\n",
        "coef_df = pd.DataFrame({'Feature': all_feature_names, 'Importance': np.abs(coeffs)})\n",
        "\n",
        "# Affichage trié\n",
        "coef_df = coef_df.sort_values(by='Importance', ascending=False)\n",
        "\n",
        "# Visualisation\n",
        "coef_df.head(25).plot(kind='barh', x='Feature', y='Importance', title=f\"Top 25 features - Linear Regression\")\n",
        "plt.gca().invert_yaxis()\n",
        "plt.tight_layout()\n",
        "plt.show()\n",
        "\n",
        "print(\"Analyse: Le profil des points de ventes explique en grande partie les resultats hebdmodaires, puis le CPI et l'absence de salaries\")"
      ],
      "metadata": {
        "colab": {
          "base_uri": "https://localhost:8080/",
          "height": 521
        },
        "id": "aPfCt1oxx0Ra",
        "outputId": "be67c69d-ab3b-485b-eaff-2b3a5d2da27f"
      },
      "id": "aPfCt1oxx0Ra",
      "execution_count": null,
      "outputs": [
        {
          "output_type": "stream",
          "name": "stdout",
          "text": [
            "  Importance des variables:\n"
          ]
        },
        {
          "output_type": "display_data",
          "data": {
            "text/plain": [
              "<Figure size 640x480 with 1 Axes>"
            ],
            "image/png": "[encoded data removed]"
          },
          "metadata": {}
        },
        {
          "output_type": "stream",
          "name": "stdout",
          "text": [
            "Analyse: Le profil des points de ventes explique en grande partie les resultats hebdmodaires, puis le CPI et l'absence de salaries\n"
          ]
        }
      ]
    },
    {
      "cell_type": "markdown",
      "source": [
        "# Lutter contre l'overfitting"
      ],
      "metadata": {
        "id": "oPWZxNE29cX4"
      },
      "id": "oPWZxNE29cX4"
    },
    {
      "cell_type": "markdown",
      "source": [
        "## Utilisation de Ridge"
      ],
      "metadata": {
        "id": "8jO7IPkkXdUB"
      },
      "id": "8jO7IPkkXdUB"
    },
    {
      "cell_type": "code",
      "source": [
        "from sklearn.linear_model import Ridge\n",
        "from sklearn.metrics import mean_squared_error, r2_score\n",
        "\n",
        "\n",
        "# Pipeline de preprocessing\n",
        "preprocessor = ColumnTransformer(\n",
        "    transformers=[\n",
        "        ('cat', OneHotEncoder(handle_unknown='ignore'), cat_features),\n",
        "        ('num', StandardScaler(), num_features)\n",
        "    ])\n",
        "\n",
        "\n",
        "# Pipeline complet avec Ridge\n",
        "pipeline_ridge = Pipeline(steps=[\n",
        "    ('preprocessor', preprocessor),\n",
        "    ('regressor', Ridge(alpha=0.05))\n",
        "])\n",
        "\n",
        "\n",
        "# Train/Test split\n",
        "\n",
        "X_train, X_test, y_train, y_test = train_test_split(\n",
        "    X, y, test_size=0.2, random_state=42\n",
        ")\n",
        "\n",
        "\n",
        "# Entraînement\n",
        "print(\"Entraînement du modèle Ridge...\")\n",
        "pipeline_ridge.fit(X_train, y_train)\n",
        "\n",
        "\n",
        "# Prédictions\n",
        "y_pred_train = pipeline_ridge.predict(X_train)\n",
        "y_pred_test = pipeline_ridge.predict(X_test)\n",
        "\n",
        "\n",
        "# Évaluation\n",
        "rmse_train = mean_squared_error(y_train, y_pred_train)\n",
        "r2_train = r2_score(y_train, y_pred_train)\n",
        "\n",
        "rmse_test = mean_squared_error(y_test, y_pred_test)\n",
        "r2_test = r2_score(y_test, y_pred_test)\n",
        "\n",
        "print(\" Performance sur l'entraînement :\")\n",
        "print(f\"  RMSE: {rmse_train:,.3f}\")\n",
        "print(f\"  R2: {r2_train:.3f}\")\n",
        "\n",
        "print(\" Performance sur le test :\")\n",
        "print(f\"  RMSE: {rmse_test:,.3f}\")\n",
        "print(f\"  R2: {r2_test:.3f}\")"
      ],
      "metadata": {
        "colab": {
          "base_uri": "https://localhost:8080/"
        },
        "id": "VDZc5IvXO1WG",
        "outputId": "1d4808d4-e1b7-4c93-a7f8-ff8a72986a83"
      },
      "id": "VDZc5IvXO1WG",
      "execution_count": null,
      "outputs": [
        {
          "output_type": "stream",
          "name": "stdout",
          "text": [
            "Entraînement du modèle Ridge...\n",
            " Performance sur l'entraînement :\n",
            "  RMSE: 10,961,303,868.148\n",
            "  R2: 0.976\n",
            " Performance sur le test :\n",
            "  RMSE: 83,647,098,740.111\n",
            "  R2: 0.822\n"
          ]
        }
      ]
    },
    {
      "cell_type": "code",
      "source": [
        "3# Optimisation de mon Alpha\n",
        "from sklearn.model_selection import GridSearchCV\n",
        "from sklearn.linear_model import Ridge\n",
        "\n",
        "param_grid = {\n",
        "    'regressor__alpha': [0.045, 0.050, 0.054, 0.055, 0.056, 0.057, 0.058, 0.06, 0.061, 0.062, 0.063, 0.064]\n",
        "}\n",
        "\n",
        "grid = GridSearchCV(\n",
        "    pipeline_ridge,\n",
        "    param_grid,\n",
        "    scoring='r2',\n",
        "    cv=10\n",
        ")\n",
        "\n",
        "grid.fit(X_train, y_train)\n",
        "\n",
        "# Affichage du meilleur alpha et du meilleur score\n",
        "print(\"Meilleur alpha:\", grid.best_params_)\n",
        "print(\"Meilleur score CV:\", grid.best_score_)\n",
        "\n",
        "# Prédictions sur le test set avec le meilleur modèle trouvé par GridSearchCV\n",
        "y_pred_test = grid.predict(X_test)\n",
        "\n",
        "# Affichage des prédictions ou de l'évaluation\n",
        "r2_test = r2_score(y_test, y_pred_test)\n",
        "rmse_test = mean_squared_error(y_test, y_pred_test)\n",
        "\n",
        "print(f\"R² sur test  : {r2_test:.3f}\")\n",
        "print(f\"RMSE test    : {rmse_test:.3f}\")\n",
        "\n",
        "print(\"Analyse : J'ai reduit l'overfitting par un model moins complexe, j'ai augmente la regularisation alpha. Pour autant pas d'amelioration de mes predictions\")"
      ],
      "metadata": {
        "colab": {
          "base_uri": "https://localhost:8080/"
        },
        "id": "-B599FWtU1q_",
        "outputId": "21ab4283-fe11-4fde-ae82-587cf0deae1a"
      },
      "id": "-B599FWtU1q_",
      "execution_count": null,
      "outputs": [
        {
          "output_type": "stream",
          "name": "stdout",
          "text": [
            "Meilleur alpha: {'regressor__alpha': 0.063}\n",
            "Meilleur score CV: 0.9030233304628201\n",
            "R² sur test  : 0.822\n",
            "RMSE test    : 83387882678.415\n",
            "Analyse : J'ai reduit l'overfitting par un model moins complexe, j'ai augmente la regularisation alpha. Pour autant pas d'amelioration de mes predictions\n"
          ]
        }
      ]
    },
    {
      "cell_type": "code",
      "source": [
        "from sklearn.model_selection import cross_val_score\n",
        "\n",
        "# Validation croisée avec le meilleur modèle sur le test set\n",
        "cross_val_scores = cross_val_score(best_model, X_test, y_test, cv=4, scoring='r2')\n",
        "# Oblige de reduire mon CV car taille du test set trop faible\n",
        "print(f\"Scores R² sur le test set : {cross_val_scores}\")\n",
        "print(f\"R² moyen sur le test set : {cross_val_scores.mean()}\")\n",
        "\n",
        "print(\"Taille du test set insuffisant pour une cross validation\")\n"
      ],
      "metadata": {
        "colab": {
          "base_uri": "https://localhost:8080/"
        },
        "id": "epyO6Dz5e37K",
        "outputId": "0359891e-78e4-4cf3-f542-0c863c8265d6"
      },
      "id": "epyO6Dz5e37K",
      "execution_count": null,
      "outputs": [
        {
          "output_type": "stream",
          "name": "stdout",
          "text": [
            "Scores R² sur le test set : [ 0.67054697 -2.52968251 -0.16501448 -0.76105024]\n",
            "R² moyen sur le test set : -0.6963000629655328\n",
            "Taille du test set insuffisant pour une cross validation\n"
          ]
        }
      ]
    },
    {
      "cell_type": "markdown",
      "source": [
        "## Utilisation de Lasso"
      ],
      "metadata": {
        "id": "meMbAkgGXsIG"
      },
      "id": "meMbAkgGXsIG"
    },
    {
      "cell_type": "code",
      "source": [
        "from sklearn.linear_model import Lasso\n",
        "# 4. Pipeline avec Lasso\n",
        "lasso_pipeline = Pipeline(steps=[\n",
        "    ('preprocessor', preprocessor),\n",
        "    ('regressor', Lasso(alpha=0.1, random_state=42, max_iter=10000))\n",
        "])\n",
        "\n",
        "# 5. Entraînement\n",
        "lasso_pipeline.fit(X_train, y_train)\n",
        "\n",
        "# 6. Prédictions\n",
        "y_train_pred = lasso_pipeline.predict(X_train)\n",
        "y_test_pred = lasso_pipeline.predict(X_test)\n",
        "\n",
        "# 7. Évaluation\n",
        "rmse_train = mean_squared_error(y_train, y_train_pred)\n",
        "r2_train = r2_score(y_train, y_train_pred)\n",
        "\n",
        "rmse_test = mean_squared_error(y_test, y_test_pred)\n",
        "r2_test = r2_score(y_test, y_test_pred)\n",
        "\n",
        "print(\" Résultats du modèle Lasso :\")\n",
        "print(f\"  ➤ R² entraînement : {r2_train:.4f}\")\n",
        "print(f\"  ➤ RMSE entraînement : {rmse_train:,.2f}\")\n",
        "print(f\"  ➤ R² test : {r2_test:.4f}\")\n",
        "print(f\"  ➤ RMSE test : {rmse_test:,.2f}\")"
      ],
      "metadata": {
        "colab": {
          "base_uri": "https://localhost:8080/"
        },
        "id": "nAyVS-mIB3JC",
        "outputId": "72a89885-ba9d-4b00-d503-4908659b7aeb"
      },
      "id": "nAyVS-mIB3JC",
      "execution_count": null,
      "outputs": [
        {
          "output_type": "stream",
          "name": "stdout",
          "text": [
            " Résultats du modèle Lasso :\n",
            "  ➤ R² entraînement : 0.9762\n",
            "  ➤ RMSE entraînement : 10,854,453,431.35\n",
            "  ➤ R² test : 0.8218\n",
            "  ➤ RMSE test : 83,676,128,307.06\n"
          ]
        },
        {
          "output_type": "stream",
          "name": "stderr",
          "text": [
            "/usr/local/lib/python3.12/dist-packages/sklearn/linear_model/_coordinate_descent.py:695: ConvergenceWarning: Objective did not converge. You might want to increase the number of iterations, check the scale of the features or consider increasing regularisation. Duality gap: 2.703e+10, tolerance: 3.382e+09\n",
            "  model = cd_fast.enet_coordinate_descent(\n"
          ]
        }
      ]
    },
    {
      "cell_type": "code",
      "source": [
        "# 4. Grille d'hyperparamètres\n",
        "param_grid = {\n",
        "    'regressor__alpha': np.logspace(-5, -1, 10)\n",
        "}\n",
        "\n",
        "# 5. Train/test split\n",
        "X_train, X_test, y_train, y_test = train_test_split(\n",
        "    X, y, test_size=0.2, random_state=42\n",
        ")\n",
        "\n",
        "# 6. GridSearchCV\n",
        "grid = GridSearchCV(\n",
        "    lasso_pipeline,\n",
        "    param_grid,\n",
        "    cv=10,\n",
        "    scoring='r2',\n",
        "    n_jobs=-1,\n",
        "    verbose=1\n",
        ")\n",
        "\n",
        "grid.fit(X_train, y_train)\n",
        "\n",
        "# 7. Résultats\n",
        "best_model = grid.best_estimator_  # Récupère le meilleur modèle trouvé\n",
        "best_alpha = grid.best_params_['regressor__alpha']  # Récupère le meilleur alpha\n",
        "best_score = grid.best_score_  # Récupère le meilleur score R² (cross-validation)\n",
        "\n",
        "# Affichage des résultats\n",
        "print(f\"Meilleur alpha : {best_alpha}\")\n",
        "print(f\"Meilleur score R² (cross-validation) : {best_score:.4f}\")\n",
        "\n",
        "# 8. Évaluation finale\n",
        "y_pred_test = best_model.predict(X_test)\n",
        "r2_test = r2_score(y_test, y_pred_test)\n",
        "rmse_test = mean_squared_error(y_test, y_pred_test)\n",
        "\n",
        "print(f\" Performance sur le test : R² = {r2_test:.4f} | RMSE = {rmse_test:,.2f}\")"
      ],
      "metadata": {
        "colab": {
          "base_uri": "https://localhost:8080/"
        },
        "id": "58frJiIpArtk",
        "outputId": "ac67d095-1137-4ef5-eb6a-2eac51c25d61"
      },
      "id": "58frJiIpArtk",
      "execution_count": null,
      "outputs": [
        {
          "output_type": "stream",
          "name": "stdout",
          "text": [
            "Fitting 10 folds for each of 10 candidates, totalling 100 fits\n",
            "Meilleur alpha : 0.1\n",
            "Meilleur score R² (cross-validation) : 0.8989\n",
            " Performance sur le test : R² = 0.8218 | RMSE = 83,676,128,307.06\n"
          ]
        },
        {
          "output_type": "stream",
          "name": "stderr",
          "text": [
            "/usr/local/lib/python3.12/dist-packages/sklearn/linear_model/_coordinate_descent.py:695: ConvergenceWarning: Objective did not converge. You might want to increase the number of iterations, check the scale of the features or consider increasing regularisation. Duality gap: 2.703e+10, tolerance: 3.382e+09\n",
            "  model = cd_fast.enet_coordinate_descent(\n"
          ]
        }
      ]
    },
    {
      "cell_type": "markdown",
      "source": [
        "## Utilisation de XGBoost"
      ],
      "metadata": {
        "id": "vC8Rz0orXhZ2"
      },
      "id": "vC8Rz0orXhZ2"
    },
    {
      "cell_type": "code",
      "source": [
        "# Entrainement d'un model de Random Forest\n",
        "from sklearn.ensemble import RandomForestRegressor\n",
        "\n",
        "# Pipeline avec Random Forest\n",
        "pipeline_rf = Pipeline(steps=[\n",
        "    ('preprocessor', preprocessor),  # Reutilisation du même preprocessor\n",
        "    ('regressor', RandomForestRegressor(\n",
        "        n_estimators=100,\n",
        "        max_depth=None,\n",
        "        random_state=42,\n",
        "        n_jobs=-1\n",
        "    ))\n",
        "])\n",
        "\n",
        "# Entraînement du modèle Random Forest\n",
        "print(\" Entraînement du modèle Random Forest...\")\n",
        "pipeline_rf.fit(X_train, y_train)\n",
        "\n",
        "# Prédictions\n",
        "y_pred_train_rf = pipeline_rf.predict(X_train)\n",
        "y_pred_test_rf = pipeline_rf.predict(X_test)\n",
        "\n",
        "# Évaluation\n",
        "rmse_train_rf = mean_squared_error(y_train, y_pred_train_rf)\n",
        "r2_train_rf = r2_score(y_train, y_pred_train_rf)\n",
        "\n",
        "rmse_test_rf = mean_squared_error(y_test, y_pred_test_rf)\n",
        "r2_test_rf = r2_score(y_test, y_pred_test_rf)\n",
        "\n",
        "print(\"Performance Random Forest - Entraînement :\")\n",
        "print(f\"  RMSE: {rmse_train_rf:,.2f}\")\n",
        "print(f\"  R2: {r2_train_rf:.2f}\")\n",
        "\n",
        "print(\"Performance Random Forest - Test :\")\n",
        "print(f\"  RMSE: {rmse_test_rf:,.2f}\")\n",
        "print(f\"  R2: {r2_test_rf:.2f}\")"
      ],
      "metadata": {
        "colab": {
          "base_uri": "https://localhost:8080/"
        },
        "id": "bedC7h0tt4Dy",
        "outputId": "5d092185-a86b-4881-82d2-afbe1fa4f88a"
      },
      "id": "bedC7h0tt4Dy",
      "execution_count": null,
      "outputs": [
        {
          "output_type": "stream",
          "name": "stdout",
          "text": [
            " Entraînement du modèle Random Forest...\n",
            "Performance Random Forest - Entraînement :\n",
            "  RMSE: 19,757,206,875.22\n",
            "  R2: 0.96\n",
            "Performance Random Forest - Test :\n",
            "  RMSE: 128,345,960,489.20\n",
            "  R2: 0.73\n"
          ]
        }
      ]
    },
    {
      "cell_type": "code",
      "source": [
        "# Essai avec XGboost\n",
        "from xgboost import XGBRegressor\n",
        "\n",
        "# 1. Preprocessing\n",
        "preprocessor = ColumnTransformer([\n",
        "    ('cat', OneHotEncoder(handle_unknown='ignore'), cat_features),\n",
        "    ('num', StandardScaler(), num_features)\n",
        "])\n",
        "\n",
        "# 2. Modèle avec les bons hyperparamètres\n",
        "xgb_model = XGBRegressor(\n",
        "    n_estimators=150,\n",
        "    learning_rate=0.1,\n",
        "    max_depth=3,\n",
        "    subsample=0.8,\n",
        "    colsample_bytree=1.0,\n",
        "    reg_alpha=0.1,\n",
        "    reg_lambda=1.0,\n",
        "    objective='reg:squarederror',\n",
        "    random_state=42\n",
        ")\n",
        "\n",
        "# 3. Pipeline complet\n",
        "pipeline_xgb = Pipeline(steps=[\n",
        "    ('preprocessor', preprocessor),\n",
        "    ('regressor', xgb_model)\n",
        "])\n",
        "\n",
        "# 4. Split\n",
        "X_train, X_test, y_train, y_test = train_test_split(X, y, test_size=0.2, random_state=42)\n",
        "\n",
        "# 5. Entraînement\n",
        "print(\"Entraînement du pipeline XGBoost...\")\n",
        "pipeline_xgb.fit(X_train, y_train)\n",
        "\n",
        "# 6. Prédictions\n",
        "y_pred_train = pipeline_xgb.predict(X_train)\n",
        "y_pred_test = pipeline_xgb.predict(X_test)\n",
        "\n",
        "# 7. Évaluation\n",
        "rmse_train = mean_squared_error(y_train, y_pred_train)\n",
        "r2_train = r2_score(y_train, y_pred_train)\n",
        "\n",
        "rmse_test = mean_squared_error(y_test, y_pred_test)\n",
        "r2_test = r2_score(y_test, y_pred_test)\n",
        "\n",
        "print(\"Performance XGBoost - Entraînement :\")\n",
        "print(f\"  RMSE: {rmse_train:,.3f}\")\n",
        "print(f\"  R2: {r2_train:.3f}\")\n",
        "\n",
        "print(\"Performance XGBoost - Test :\")\n",
        "print(f\"  RMSE: {rmse_test:,.3f}\")\n",
        "print(f\"  R2: {r2_test:.3f}\")\n",
        "\n",
        "print(\"Analyse: Malgre une optimisation des hyperparametres, l'overfitting est toujours present. Mais le XGboost semble fournir la meilleure performance de prediction\")"
      ],
      "metadata": {
        "colab": {
          "base_uri": "https://localhost:8080/"
        },
        "id": "45_cXEUnVWX2",
        "outputId": "9d44626a-4c48-44af-f230-6a91563f4b66"
      },
      "id": "45_cXEUnVWX2",
      "execution_count": null,
      "outputs": [
        {
          "output_type": "stream",
          "name": "stdout",
          "text": [
            "Entraînement du pipeline XGBoost...\n",
            "Performance XGBoost - Entraînement :\n",
            "  RMSE: 909,794,966.505\n",
            "  R2: 0.998\n",
            "Performance XGBoost - Test :\n",
            "  RMSE: 63,480,985,676.080\n",
            "  R2: 0.865\n"
          ]
        }
      ]
    },
    {
      "cell_type": "code",
      "source": [
        "from sklearn.model_selection import GridSearchCV\n",
        "\n",
        "param_grid = {\n",
        "    'regressor__n_estimators': [250, 300, 350],\n",
        "    'regressor__max_depth': [3, 5, 4],\n",
        "    'regressor__learning_rate': [0.08, 0.1, 0.13],\n",
        "    'regressor__subsample': [0.7, 1.0, 1.3],\n",
        "    'regressor__colsample_bytree': [0.9, 1.0, 1.1]\n",
        "}\n",
        "\n",
        "grid_search = GridSearchCV(\n",
        "    pipeline_xgb,\n",
        "    param_grid=param_grid,\n",
        "    cv=3,\n",
        "    scoring='r2',\n",
        "    verbose=1,\n",
        "    n_jobs=-1\n",
        ")\n",
        "\n",
        "grid_search.fit(X_train, y_train)\n",
        "\n",
        "# Meilleurs paramètres\n",
        "print(\"Best params:\", grid_search.best_params_)\n",
        "\n",
        "# Évaluation sur test\n",
        "y_pred_test = grid_search.predict(X_test)\n",
        "print(\"R² test:\", r2_score(y_test, y_pred_test))\n"
      ],
      "metadata": {
        "colab": {
          "base_uri": "https://localhost:8080/"
        },
        "id": "yXKXM8zqW8p3",
        "outputId": "bdf7dbf4-e73d-4911-c223-89274b6079d7"
      },
      "id": "yXKXM8zqW8p3",
      "execution_count": null,
      "outputs": [
        {
          "output_type": "stream",
          "name": "stdout",
          "text": [
            "Fitting 3 folds for each of 243 candidates, totalling 729 fits\n",
            "Best params: {'regressor__colsample_bytree': 1.0, 'regressor__learning_rate': 0.1, 'regressor__max_depth': 3, 'regressor__n_estimators': 350, 'regressor__subsample': 1.0}\n",
            "R² test: 0.8888230802721091\n"
          ]
        },
        {
          "output_type": "stream",
          "name": "stderr",
          "text": [
            "/usr/local/lib/python3.12/dist-packages/sklearn/model_selection/_validation.py:528: FitFailedWarning: \n",
            "405 fits failed out of a total of 729.\n",
            "The score on these train-test partitions for these parameters will be set to nan.\n",
            "If these failures are not expected, you can try to debug them by setting error_score='raise'.\n",
            "\n",
            "Below are more details about the failures:\n",
            "--------------------------------------------------------------------------------\n",
            "162 fits failed with the following error:\n",
            "Traceback (most recent call last):\n",
            "  File \"/usr/local/lib/python3.12/dist-packages/sklearn/model_selection/_validation.py\", line 866, in _fit_and_score\n",
            "    estimator.fit(X_train, y_train, **fit_params)\n",
            "  File \"/usr/local/lib/python3.12/dist-packages/sklearn/base.py\", line 1389, in wrapper\n",
            "    return fit_method(estimator, *args, **kwargs)\n",
            "           ^^^^^^^^^^^^^^^^^^^^^^^^^^^^^^^^^^^^^^\n",
            "  File \"/usr/local/lib/python3.12/dist-packages/sklearn/pipeline.py\", line 662, in fit\n",
            "    self._final_estimator.fit(Xt, y, **last_step_params[\"fit\"])\n",
            "  File \"/usr/local/lib/python3.12/dist-packages/xgboost/core.py\", line 729, in inner_f\n",
            "    return func(**kwargs)\n",
            "           ^^^^^^^^^^^^^^\n",
            "  File \"/usr/local/lib/python3.12/dist-packages/xgboost/sklearn.py\", line 1247, in fit\n",
            "    self._Booster = train(\n",
            "                    ^^^^^^\n",
            "  File \"/usr/local/lib/python3.12/dist-packages/xgboost/core.py\", line 729, in inner_f\n",
            "    return func(**kwargs)\n",
            "           ^^^^^^^^^^^^^^\n",
            "  File \"/usr/local/lib/python3.12/dist-packages/xgboost/training.py\", line 183, in train\n",
            "    bst.update(dtrain, iteration=i, fobj=obj)\n",
            "  File \"/usr/local/lib/python3.12/dist-packages/xgboost/core.py\", line 2246, in update\n",
            "    _check_call(\n",
            "  File \"/usr/local/lib/python3.12/dist-packages/xgboost/core.py\", line 310, in _check_call\n",
            "    raise XGBoostError(py_str(_LIB.XGBGetLastError()))\n",
            "xgboost.core.XGBoostError: value 1.3 for Parameter subsample exceed bound [0,1]\n",
            "subsample: Row subsample ratio of training instance.\n",
            "\n",
            "--------------------------------------------------------------------------------\n",
            "243 fits failed with the following error:\n",
            "Traceback (most recent call last):\n",
            "  File \"/usr/local/lib/python3.12/dist-packages/sklearn/model_selection/_validation.py\", line 866, in _fit_and_score\n",
            "    estimator.fit(X_train, y_train, **fit_params)\n",
            "  File \"/usr/local/lib/python3.12/dist-packages/sklearn/base.py\", line 1389, in wrapper\n",
            "    return fit_method(estimator, *args, **kwargs)\n",
            "           ^^^^^^^^^^^^^^^^^^^^^^^^^^^^^^^^^^^^^^\n",
            "  File \"/usr/local/lib/python3.12/dist-packages/sklearn/pipeline.py\", line 662, in fit\n",
            "    self._final_estimator.fit(Xt, y, **last_step_params[\"fit\"])\n",
            "  File \"/usr/local/lib/python3.12/dist-packages/xgboost/core.py\", line 729, in inner_f\n",
            "    return func(**kwargs)\n",
            "           ^^^^^^^^^^^^^^\n",
            "  File \"/usr/local/lib/python3.12/dist-packages/xgboost/sklearn.py\", line 1247, in fit\n",
            "    self._Booster = train(\n",
            "                    ^^^^^^\n",
            "  File \"/usr/local/lib/python3.12/dist-packages/xgboost/core.py\", line 729, in inner_f\n",
            "    return func(**kwargs)\n",
            "           ^^^^^^^^^^^^^^\n",
            "  File \"/usr/local/lib/python3.12/dist-packages/xgboost/training.py\", line 183, in train\n",
            "    bst.update(dtrain, iteration=i, fobj=obj)\n",
            "  File \"/usr/local/lib/python3.12/dist-packages/xgboost/core.py\", line 2246, in update\n",
            "    _check_call(\n",
            "  File \"/usr/local/lib/python3.12/dist-packages/xgboost/core.py\", line 310, in _check_call\n",
            "    raise XGBoostError(py_str(_LIB.XGBGetLastError()))\n",
            "xgboost.core.XGBoostError: value 1.1 for Parameter colsample_bytree exceed bound [0,1]\n",
            "colsample_bytree: Subsample ratio of columns, resample on each tree construction.\n",
            "\n",
            "  warnings.warn(some_fits_failed_message, FitFailedWarning)\n",
            "/usr/local/lib/python3.12/dist-packages/sklearn/model_selection/_search.py:1108: UserWarning: One or more of the test scores are non-finite: [0.64415942 0.74792552        nan 0.64728753 0.75015828        nan\n",
            " 0.64906488 0.75153179        nan 0.60835711 0.59430838        nan\n",
            " 0.60863168 0.59447766        nan 0.60867935 0.59450176        nan\n",
            " 0.64537985 0.70080459        nan 0.64619548 0.70134177        nan\n",
            " 0.64644337 0.70143461        nan 0.64333232 0.74692933        nan\n",
            " 0.64518218 0.74857212        nan 0.64607915 0.74947127        nan\n",
            " 0.62196972 0.61022413        nan 0.6220677  0.61023199        nan\n",
            " 0.62209091 0.61023394        nan 0.62485458 0.69890676        nan\n",
            " 0.62513153 0.69911002        nan 0.62519493 0.69917243        nan\n",
            " 0.62573793 0.74263942        nan 0.62636657 0.74322814        nan\n",
            " 0.62648532 0.7435115         nan 0.61988234 0.58583836        nan\n",
            " 0.61989084 0.58583916        nan 0.61989245 0.58583932        nan\n",
            " 0.63695539 0.65823892        nan 0.63702559 0.65827499        nan\n",
            " 0.63703453 0.65828348        nan 0.67596125 0.76476654        nan\n",
            " 0.67844313 0.76555767        nan 0.67996054 0.76591243        nan\n",
            " 0.64023792 0.63957945        nan 0.64052491 0.63965974        nan\n",
            " 0.64060616 0.63968333        nan 0.6553447  0.72237755        nan\n",
            " 0.65595086 0.72245655        nan 0.656222   0.72246186        nan\n",
            " 0.65236915 0.76750344        nan 0.65417437 0.76879501        nan\n",
            " 0.6549012  0.76979935        nan 0.637711   0.63979383        nan\n",
            " 0.63780396 0.63981819        nan 0.63781574 0.63982279        nan\n",
            " 0.65368888 0.70704868        nan 0.65384752 0.70723769        nan\n",
            " 0.65388685 0.70729274        nan 0.63274612 0.761097          nan\n",
            " 0.63319407 0.76175258        nan 0.63325643 0.76222579        nan\n",
            " 0.6206922  0.63606018        nan 0.6206993  0.63606302        nan\n",
            " 0.62070059 0.63606331        nan 0.65209235 0.69401644        nan\n",
            " 0.6521679  0.69402738        nan 0.65217842 0.69403623        nan\n",
            "        nan        nan        nan        nan        nan        nan\n",
            "        nan        nan        nan        nan        nan        nan\n",
            "        nan        nan        nan        nan        nan        nan\n",
            "        nan        nan        nan        nan        nan        nan\n",
            "        nan        nan        nan        nan        nan        nan\n",
            "        nan        nan        nan        nan        nan        nan\n",
            "        nan        nan        nan        nan        nan        nan\n",
            "        nan        nan        nan        nan        nan        nan\n",
            "        nan        nan        nan        nan        nan        nan\n",
            "        nan        nan        nan        nan        nan        nan\n",
            "        nan        nan        nan        nan        nan        nan\n",
            "        nan        nan        nan        nan        nan        nan\n",
            "        nan        nan        nan        nan        nan        nan\n",
            "        nan        nan        nan]\n",
            "  warnings.warn(\n"
          ]
        }
      ]
    },
    {
      "cell_type": "markdown",
      "source": [
        "run 1:\n",
        "\n",
        ">Fitting 3 folds for each of 72 candidates, totalling 216 fits\n",
        "Best params: {'regressor__colsample_bytree': 1.0, 'regressor__learning_rate': 0.1, 'regressor__max_depth': 3, 'regressor__n_estimators': 300, 'regressor__subsample': 1.0}\n",
        "R² test: 0.8887908756685985\n",
        "\n",
        "run 2:\n",
        "\n",
        "\n",
        ">  for each of 108 candidates, totalling 324 fits\n",
        "Best params: {'regressor__colsample_bytree': 1.0, 'regressor__learning_rate': 0.1, 'regressor__max_depth': 3, 'regressor__n_estimators': 350, 'regressor__subsample': 1.0}\n",
        "R² test: 0.8888230802721091\n",
        "\n",
        "\n",
        "\n"
      ],
      "metadata": {
        "id": "bBdm5-Y9sHVQ"
      },
      "id": "bBdm5-Y9sHVQ"
    },
    {
      "cell_type": "markdown",
      "source": [
        "# Compilation des performances sous differents regulateurs"
      ],
      "metadata": {
        "id": "Z4djRbIxXzu9"
      },
      "id": "Z4djRbIxXzu9"
    },
    {
      "cell_type": "code",
      "source": [
        "models = {\n",
        "    'Linear Regression': LinearRegression(),\n",
        "    'Ridge': Ridge(alpha=0.059),\n",
        "    'Lasso': Lasso(alpha=0.001),\n",
        "    'Random Forest': RandomForestRegressor(n_estimators=100, random_state=42),\n",
        "    'XGBoost': XGBRegressor(n_estimators=350, learning_rate=0.1, max_depth=3,\n",
        "                             random_state=42, objective='reg:squarederror')}\n",
        "\n",
        "# 5. Boucle d’évaluation\n",
        "results = []\n",
        "\n",
        "for name, model in models.items():\n",
        "    pipe = Pipeline(steps=[\n",
        "        ('preprocessor', preprocessor),\n",
        "        ('regressor', model)\n",
        "    ])\n",
        "\n",
        "    pipe.fit(X_train, y_train)\n",
        "\n",
        "    y_train_pred = pipe.predict(X_train)\n",
        "    y_test_pred = pipe.predict(X_test)\n",
        "\n",
        "    results.append({\n",
        "        'Modèle': name,\n",
        "        'R² Train': r2_score(y_train, y_train_pred),\n",
        "        'RMSE Train': mean_squared_error(y_train, y_train_pred),\n",
        "        'R² Test': r2_score(y_test, y_test_pred),\n",
        "        'RMSE Test': mean_squared_error(y_test, y_test_pred)\n",
        "    })\n",
        "\n",
        "# 6. Résultats en DataFrame\n",
        "results_df = pd.DataFrame(results).sort_values(by='R² Test', ascending=False)\n",
        "print(results_df)\n",
        "\n",
        "print(\"Analyse: Dans le cadre d'une mise en production, il sera privilegie il sera privilegie le XBoost pour un deploiement. L'ideal serait de labeliser certaines donnees absentes et d'obtenir plus de donnees.\")"
      ],
      "metadata": {
        "colab": {
          "base_uri": "https://localhost:8080/"
        },
        "id": "VpNTT8d-Bhk6",
        "outputId": "90751b1f-57ff-4a75-94e4-0f833d221f04"
      },
      "id": "VpNTT8d-Bhk6",
      "execution_count": null,
      "outputs": [
        {
          "output_type": "stream",
          "name": "stderr",
          "text": [
            "/usr/local/lib/python3.12/dist-packages/sklearn/linear_model/_coordinate_descent.py:695: ConvergenceWarning: Objective did not converge. You might want to increase the number of iterations, check the scale of the features or consider increasing regularisation. Duality gap: 3.860e+11, tolerance: 3.382e+09\n",
            "  model = cd_fast.enet_coordinate_descent(\n"
          ]
        },
        {
          "output_type": "stream",
          "name": "stdout",
          "text": [
            "              Modèle  R² Train    RMSE Train   R² Test     RMSE Test\n",
            "4            XGBoost  0.999937  2.872038e+07  0.888823  5.220936e+10\n",
            "2              Lasso  0.976249  1.085445e+10  0.822686  8.326754e+10\n",
            "1              Ridge  0.975929  1.100083e+10  0.822267  8.346474e+10\n",
            "0  Linear Regression  0.976249  1.085445e+10  0.819403  8.480968e+10\n",
            "3      Random Forest  0.951376  2.222211e+10  0.748806  1.179621e+11\n"
          ]
        }
      ]
    },
    {
      "cell_type": "code",
      "source": [],
      "metadata": {
        "id": "w6m26-3kzHu8"
      },
      "id": "w6m26-3kzHu8",
      "execution_count": null,
      "outputs": []
    }
  ],
  "metadata": {
    "kernelspec": {
      "display_name": "fullstack-env",
      "language": "python",
      "name": "python3"
    },
    "language_info": {
      "codemirror_mode": {
        "name": "ipython",
        "version": 3
      },
      "file_extension": ".py",
      "mimetype": "text/x-python",
      "name": "python",
      "nbconvert_exporter": "python",
      "pygments_lexer": "ipython3",
      "version": "3.11.0"
    },
    "colab": {
      "provenance": [],
      "toc_visible": true,
      "include_colab_link": true
    }
  },
  "nbformat": 4,
  "nbformat_minor": 5
}
